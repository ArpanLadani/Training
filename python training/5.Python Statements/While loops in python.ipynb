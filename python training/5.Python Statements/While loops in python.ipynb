{
 "cells": [
  {
   "cell_type": "markdown",
   "id": "5ac9e36c",
   "metadata": {},
   "source": [
    "### While loop:\n",
    "\n",
    "While loops will continue to execute a block of code while some condition \n",
    "remains True.\n",
    "For example, while my pool is not full, keep filing my pool with water.\n",
    "Or while my dogs are still hungry, keep feeding my dogs.\n",
    "    \n",
    "Syntax of while loop:\n",
    "    while some_boolean_condition:\n",
    "        #do something\n",
    "        \n",
    "Syntax of while with else if you want:\n",
    "    while some_boolean_condition:\n",
    "        #do something different\n",
    "    else:\n",
    "        #do something different"
   ]
  },
  {
   "cell_type": "code",
   "execution_count": 4,
   "id": "4972332d",
   "metadata": {},
   "outputs": [
    {
     "name": "stdout",
     "output_type": "stream",
     "text": [
      "The current value of x is 0\n",
      "The current value of x is 1\n",
      "The current value of x is 2\n",
      "The current value of x is 3\n",
      "The current value of x is 4\n",
      "x is not less than 5\n"
     ]
    }
   ],
   "source": [
    "x = 0\n",
    "\n",
    "while x<5:\n",
    "    print(f'The current value of x is {x}')\n",
    "    x = x + 1 # or x+=1\n",
    "else:\n",
    "    print('x is not less than 5')"
   ]
  },
  {
   "cell_type": "markdown",
   "id": "7ad84010",
   "metadata": {},
   "source": [
    "### Three keywords that we mainly use in while loop:\n",
    "    1)break - breaks out the current closest enclosing loop.\n",
    "    2)continue - Goes to the top of the closest enclosing loop.\n",
    "    3)pass - Does nothing at all. Basically used for not getting the syntax         error.\n"
   ]
  },
  {
   "cell_type": "code",
   "execution_count": 6,
   "id": "aceb2e20",
   "metadata": {},
   "outputs": [
    {
     "name": "stdout",
     "output_type": "stream",
     "text": [
      "end of my string\n"
     ]
    }
   ],
   "source": [
    "x = [1,2,3]\n",
    "\n",
    "for item in x:\n",
    "    pass\n",
    "\n",
    "print('end of my string')"
   ]
  },
  {
   "cell_type": "code",
   "execution_count": 8,
   "id": "cf139a06",
   "metadata": {},
   "outputs": [
    {
     "name": "stdout",
     "output_type": "stream",
     "text": [
      "s\n",
      "m\n",
      "m\n",
      "y\n"
     ]
    }
   ],
   "source": [
    "mystring = 'sammy'\n",
    "for letter in mystring:\n",
    "    if letter == 'a':\n",
    "        continue\n",
    "    print(letter)"
   ]
  },
  {
   "cell_type": "markdown",
   "id": "acd89b25",
   "metadata": {},
   "source": [
    "In above code once if condition counters 'a' it will go to closest enclosing \n",
    "loop that is for loop.\n",
    "    "
   ]
  },
  {
   "cell_type": "code",
   "execution_count": 9,
   "id": "8f3fa133",
   "metadata": {},
   "outputs": [
    {
     "name": "stdout",
     "output_type": "stream",
     "text": [
      "s\n"
     ]
    }
   ],
   "source": [
    "mystring = 'sammy'\n",
    "for letter in mystring:\n",
    "    if letter == 'a':\n",
    "        break\n",
    "    print(letter)"
   ]
  },
  {
   "cell_type": "markdown",
   "id": "eb7fb5aa",
   "metadata": {},
   "source": [
    "In this once if condition counters 'a' it will just stop iterating the loop."
   ]
  },
  {
   "cell_type": "code",
   "execution_count": 11,
   "id": "cdca4821",
   "metadata": {},
   "outputs": [
    {
     "name": "stdout",
     "output_type": "stream",
     "text": [
      "0\n",
      "1\n"
     ]
    }
   ],
   "source": [
    "x = 0 \n",
    "\n",
    "while x<5:\n",
    "    if x == 2:\n",
    "        break\n",
    "    print(x)\n",
    "    x += 1\n",
    "    "
   ]
  },
  {
   "cell_type": "code",
   "execution_count": null,
   "id": "79caa611",
   "metadata": {},
   "outputs": [],
   "source": []
  }
 ],
 "metadata": {
  "kernelspec": {
   "display_name": "Python 3 (ipykernel)",
   "language": "python",
   "name": "python3"
  },
  "language_info": {
   "codemirror_mode": {
    "name": "ipython",
    "version": 3
   },
   "file_extension": ".py",
   "mimetype": "text/x-python",
   "name": "python",
   "nbconvert_exporter": "python",
   "pygments_lexer": "ipython3",
   "version": "3.9.13"
  }
 },
 "nbformat": 4,
 "nbformat_minor": 5
}
