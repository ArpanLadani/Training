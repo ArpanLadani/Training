{
 "cells": [
  {
   "cell_type": "markdown",
   "id": "2c635f8b",
   "metadata": {},
   "source": [
    "Control Flow syntax makes use of colons and indentation.\n",
    "This indentation system is crucial to python and is what sets it apart from other programming languages."
   ]
  },
  {
   "cell_type": "markdown",
   "id": "760b828d",
   "metadata": {},
   "source": [
    "### Syntax of if statement\n",
    "if some_condition:\n",
    "    #execute some code"
   ]
  },
  {
   "cell_type": "markdown",
   "id": "3b56208e",
   "metadata": {},
   "source": [
    "### Syntax for if/else statement\n",
    "if some_condition:\n",
    "    #execute some code\n",
    "else:\n",
    "    #do something else\n",
    "    \n",
    "### Syntax for if/else statement to check multiple condition.\n",
    "if some_condition:\n",
    "    #execute some code\n",
    "elif some other_condition:\n",
    "    #do something different\n",
    "else:\n",
    "    #do something else"
   ]
  },
  {
   "cell_type": "code",
   "execution_count": 1,
   "id": "ac290cf7",
   "metadata": {},
   "outputs": [
    {
     "name": "stdout",
     "output_type": "stream",
     "text": [
      "Its true!\n"
     ]
    }
   ],
   "source": [
    "if True:\n",
    "    print('Its true!')"
   ]
  },
  {
   "cell_type": "code",
   "execution_count": 2,
   "id": "f44f36b1",
   "metadata": {},
   "outputs": [
    {
     "name": "stdout",
     "output_type": "stream",
     "text": [
      "true\n"
     ]
    }
   ],
   "source": [
    "if 3>2:\n",
    "    print('true')"
   ]
  },
  {
   "cell_type": "code",
   "execution_count": 4,
   "id": "6f426834",
   "metadata": {},
   "outputs": [
    {
     "name": "stdout",
     "output_type": "stream",
     "text": [
      "its false\n"
     ]
    }
   ],
   "source": [
    "if False:\n",
    "    print('its true')\n",
    "else:\n",
    "    print('its false')"
   ]
  },
  {
   "cell_type": "code",
   "execution_count": 5,
   "id": "1edbc230",
   "metadata": {},
   "outputs": [
    {
     "name": "stdout",
     "output_type": "stream",
     "text": [
      "money is cool\n"
     ]
    }
   ],
   "source": [
    "loc = 'bank'\n",
    "\n",
    "if loc == 'auto shop':\n",
    "    print(\"cars are cool\")\n",
    "elif loc == 'bank':\n",
    "    print(\"money is cool\")\n",
    "elif loc == 'store':\n",
    "    print(\"welcome to store\")\n",
    "else:\n",
    "    print(\"i do not know much\")\n",
    "    "
   ]
  },
  {
   "cell_type": "code",
   "execution_count": null,
   "id": "7d3c11fa",
   "metadata": {},
   "outputs": [],
   "source": []
  }
 ],
 "metadata": {
  "kernelspec": {
   "display_name": "Python 3 (ipykernel)",
   "language": "python",
   "name": "python3"
  },
  "language_info": {
   "codemirror_mode": {
    "name": "ipython",
    "version": 3
   },
   "file_extension": ".py",
   "mimetype": "text/x-python",
   "name": "python",
   "nbconvert_exporter": "python",
   "pygments_lexer": "ipython3",
   "version": "3.9.13"
  }
 },
 "nbformat": 4,
 "nbformat_minor": 5
}
