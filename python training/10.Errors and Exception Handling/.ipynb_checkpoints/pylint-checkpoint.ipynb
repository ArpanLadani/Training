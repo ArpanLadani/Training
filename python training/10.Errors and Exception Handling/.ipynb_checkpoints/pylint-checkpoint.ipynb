{
 "cells": [
  {
   "cell_type": "markdown",
   "id": "0a8f1a34",
   "metadata": {},
   "source": [
    "### As you begin to expand to larger multi-file projects it becomes imortant to have tests in place.\n",
    "### This way as you make changes or updates your code, you can run your test files to make sure previous code still runs as expected."
   ]
  },
  {
   "cell_type": "code",
   "execution_count": null,
   "id": "48699a49",
   "metadata": {},
   "outputs": [],
   "source": []
  }
 ],
 "metadata": {
  "kernelspec": {
   "display_name": "Python 3 (ipykernel)",
   "language": "python",
   "name": "python3"
  },
  "language_info": {
   "codemirror_mode": {
    "name": "ipython",
    "version": 3
   },
   "file_extension": ".py",
   "mimetype": "text/x-python",
   "name": "python",
   "nbconvert_exporter": "python",
   "pygments_lexer": "ipython3",
   "version": "3.9.13"
  },
  "vscode": {
   "interpreter": {
    "hash": "570feb405e2e27c949193ac68f46852414290d515b0ba6e5d90d076ed2284471"
   }
  }
 },
 "nbformat": 4,
 "nbformat_minor": 5
}
