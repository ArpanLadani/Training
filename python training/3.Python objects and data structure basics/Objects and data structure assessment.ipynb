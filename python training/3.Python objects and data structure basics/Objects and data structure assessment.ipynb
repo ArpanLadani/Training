{
 "cells": [
  {
   "cell_type": "markdown",
   "id": "0870d609",
   "metadata": {},
   "source": [
    "Numbers: Numbers is a basically a numeric data type in python. There are mainly 2 types of numeric data type that we use often which are int and float. And there is third data type i.e., complex which we don't use often.\n",
    "\n",
    "Strings: Strings in python are immutable means they cant be changed once created. Strings are the sequence of the characters too. E.g, \n",
    "str = Arpan\n",
    "str[0] = D\n",
    "This gives error as string are immutable.\n",
    "\n",
    "Lists: Lists are ordered sequence that can hold variety of data types together. Lists are denoted by []. In lists we can use indexing and slicing. Lists can be nested.\n",
    "\n",
    "Tuples: Tuples are mostly like lists only the key difference is that tuples are immutable means cant be changed once declared.\n",
    "tuples are denoted by ().\n",
    "\n",
    "Dictionaries: Dictionaries are unordered mapping for storing objects. It uses key-value pair concept. This key value pairing allows user to quicky grab an object that they need without the use of index. Dictionaries can not be sorted as they depend on key-value pair. \n",
    "Syntax -  {‘key1’:’value1’,’key2’:’value2’}\n",
    "\n",
    "\n"
   ]
  },
  {
   "cell_type": "markdown",
   "id": "697d2e31",
   "metadata": {},
   "source": [
    "#### 1.Write an equation that uses multiplication, division, an exponent, addition, and subtraction that is equal to 100.25.\n"
   ]
  },
  {
   "cell_type": "code",
   "execution_count": 1,
   "id": "f71e6f91",
   "metadata": {},
   "outputs": [
    {
     "data": {
      "text/plain": [
       "100.25"
      ]
     },
     "execution_count": 1,
     "metadata": {},
     "output_type": "execute_result"
    }
   ],
   "source": [
    "(33**0 / 1)*100 + 0.5 - 0.25"
   ]
  },
  {
   "cell_type": "markdown",
   "id": "a5765b6b",
   "metadata": {},
   "source": [
    "#### 2.What is the value of the expression 4 * (6 + 5) = 44\n",
    "\n",
    "3.What is the value of the expression 4 * 6 + 5 = 29\n",
    "\n",
    "4.What is the value of the expression 4 + 6 * 5 = 34"
   ]
  },
  {
   "cell_type": "markdown",
   "id": "dc94034d",
   "metadata": {},
   "source": [
    "#### 5.What is the *type* of the result of the expression 3 + 1.5 + 4? = Float"
   ]
  },
  {
   "cell_type": "code",
   "execution_count": 2,
   "id": "552b72a3",
   "metadata": {},
   "outputs": [
    {
     "data": {
      "text/plain": [
       "float"
      ]
     },
     "execution_count": 2,
     "metadata": {},
     "output_type": "execute_result"
    }
   ],
   "source": [
    "type(3+1.5+4)"
   ]
  },
  {
   "cell_type": "markdown",
   "id": "9d6f2689",
   "metadata": {},
   "source": [
    "#### 6.What would you use to find a number’s square root, as well as its square? "
   ]
  },
  {
   "cell_type": "code",
   "execution_count": 7,
   "id": "870b7e58",
   "metadata": {},
   "outputs": [
    {
     "name": "stdout",
     "output_type": "stream",
     "text": [
      "9\n"
     ]
    }
   ],
   "source": [
    "num = 3\n",
    "square = num ** 2\n",
    "print(square)"
   ]
  },
  {
   "cell_type": "code",
   "execution_count": 8,
   "id": "d691821b",
   "metadata": {},
   "outputs": [
    {
     "name": "stdout",
     "output_type": "stream",
     "text": [
      "3.0\n"
     ]
    }
   ],
   "source": [
    "num = 9\n",
    "square_root = num ** 0.5\n",
    "print(square_root)"
   ]
  },
  {
   "cell_type": "code",
   "execution_count": 12,
   "id": "ac5bd244",
   "metadata": {},
   "outputs": [
    {
     "name": "stdout",
     "output_type": "stream",
     "text": [
      "3.0\n"
     ]
    }
   ],
   "source": [
    "num = 27\n",
    "cube_root = num ** (1/3)\n",
    "print(cube_root)"
   ]
  },
  {
   "cell_type": "markdown",
   "id": "cf800896",
   "metadata": {},
   "source": [
    "#### 7.Given the string 'hello' give an index command that returns 'e'. Enter your code in the cell below:"
   ]
  },
  {
   "cell_type": "code",
   "execution_count": 16,
   "id": "1c0ac7b1",
   "metadata": {},
   "outputs": [
    {
     "data": {
      "text/plain": [
       "'e'"
      ]
     },
     "execution_count": 16,
     "metadata": {},
     "output_type": "execute_result"
    }
   ],
   "source": [
    "string = 'hello'\n",
    "string[1]"
   ]
  },
  {
   "cell_type": "markdown",
   "id": "61898183",
   "metadata": {},
   "source": [
    "#### 8.Reverse the string 'hello' using slicing:"
   ]
  },
  {
   "cell_type": "code",
   "execution_count": 17,
   "id": "7365af73",
   "metadata": {},
   "outputs": [
    {
     "data": {
      "text/plain": [
       "'olleh'"
      ]
     },
     "execution_count": 17,
     "metadata": {},
     "output_type": "execute_result"
    }
   ],
   "source": [
    "string[::-1]"
   ]
  },
  {
   "cell_type": "markdown",
   "id": "c6040e25",
   "metadata": {},
   "source": [
    "#### 9.Given the string hello, give two methods of producing the letter 'o' using indexing."
   ]
  },
  {
   "cell_type": "code",
   "execution_count": 18,
   "id": "05e95323",
   "metadata": {},
   "outputs": [
    {
     "data": {
      "text/plain": [
       "'o'"
      ]
     },
     "execution_count": 18,
     "metadata": {},
     "output_type": "execute_result"
    }
   ],
   "source": [
    "string[4] #method1\n",
    "string[-1] #method2"
   ]
  },
  {
   "cell_type": "markdown",
   "id": "905347b6",
   "metadata": {},
   "source": [
    "#### 10.Build this list [0,0,0] two separate ways."
   ]
  },
  {
   "cell_type": "code",
   "execution_count": 19,
   "id": "c7934016",
   "metadata": {},
   "outputs": [
    {
     "data": {
      "text/plain": [
       "[0, 0, 0]"
      ]
     },
     "execution_count": 19,
     "metadata": {},
     "output_type": "execute_result"
    }
   ],
   "source": [
    "#method 1\n",
    "list_1 = [0,0,0]\n",
    "list_1"
   ]
  },
  {
   "cell_type": "code",
   "execution_count": 22,
   "id": "c18b4cf3",
   "metadata": {},
   "outputs": [
    {
     "data": {
      "text/plain": [
       "[0, 0, 0]"
      ]
     },
     "execution_count": 22,
     "metadata": {},
     "output_type": "execute_result"
    }
   ],
   "source": [
    "#method 2\n",
    "list_2 = [0,0]\n",
    "list_2.append(0)\n",
    "list_2"
   ]
  },
  {
   "cell_type": "code",
   "execution_count": 23,
   "id": "2cad0fa8",
   "metadata": {},
   "outputs": [
    {
     "data": {
      "text/plain": [
       "[0, 0, 0]"
      ]
     },
     "execution_count": 23,
     "metadata": {},
     "output_type": "execute_result"
    }
   ],
   "source": [
    "#method 3\n",
    "[0]*3"
   ]
  },
  {
   "cell_type": "markdown",
   "id": "bf3ca3b0",
   "metadata": {},
   "source": [
    "#### 11.Reassign 'hello' in this nested list to say 'goodbye' instead:\n",
    "    list3 = [1,2,[3,4,'hello']]"
   ]
  },
  {
   "cell_type": "code",
   "execution_count": 24,
   "id": "1040196b",
   "metadata": {},
   "outputs": [
    {
     "data": {
      "text/plain": [
       "[1, 2, [3, 4, 'goodbye']]"
      ]
     },
     "execution_count": 24,
     "metadata": {},
     "output_type": "execute_result"
    }
   ],
   "source": [
    "list3 = [1,2,[3,4,'hello']]\n",
    "list3[2][2] = 'goodbye'\n",
    "list3"
   ]
  },
  {
   "cell_type": "markdown",
   "id": "980ae21a",
   "metadata": {},
   "source": [
    "#### 12.Sort the list below:\n",
    "    list4 = [5,3,4,6,1]"
   ]
  },
  {
   "cell_type": "code",
   "execution_count": 28,
   "id": "d9ac6e53",
   "metadata": {},
   "outputs": [
    {
     "data": {
      "text/plain": [
       "[1, 3, 4, 5, 6]"
      ]
     },
     "execution_count": 28,
     "metadata": {},
     "output_type": "execute_result"
    }
   ],
   "source": [
    "#method 1\n",
    "list4 = [5,3,4,6,1]\n",
    "list4.sort()\n",
    "list4"
   ]
  },
  {
   "cell_type": "code",
   "execution_count": 29,
   "id": "b5ea01e1",
   "metadata": {},
   "outputs": [
    {
     "data": {
      "text/plain": [
       "[1, 3, 4, 5, 6]"
      ]
     },
     "execution_count": 29,
     "metadata": {},
     "output_type": "execute_result"
    }
   ],
   "source": [
    "#method 2\n",
    "sorted(list4)"
   ]
  },
  {
   "cell_type": "markdown",
   "id": "6c861085",
   "metadata": {},
   "source": [
    "#### 13.Using keys and indexing, grab the 'hello' from the following dictionaries:"
   ]
  },
  {
   "cell_type": "code",
   "execution_count": 30,
   "id": "69918299",
   "metadata": {},
   "outputs": [
    {
     "data": {
      "text/plain": [
       "'hello'"
      ]
     },
     "execution_count": 30,
     "metadata": {},
     "output_type": "execute_result"
    }
   ],
   "source": [
    "d = {'simple_key':'hello'}\n",
    "d['simple_key']"
   ]
  },
  {
   "cell_type": "code",
   "execution_count": 31,
   "id": "bb119510",
   "metadata": {},
   "outputs": [
    {
     "data": {
      "text/plain": [
       "'hello'"
      ]
     },
     "execution_count": 31,
     "metadata": {},
     "output_type": "execute_result"
    }
   ],
   "source": [
    "d = {'k1':{'k2':'hello'}}\n",
    "d['k1']['k2']"
   ]
  },
  {
   "cell_type": "code",
   "execution_count": 32,
   "id": "1b38077a",
   "metadata": {},
   "outputs": [
    {
     "data": {
      "text/plain": [
       "'hello'"
      ]
     },
     "execution_count": 32,
     "metadata": {},
     "output_type": "execute_result"
    }
   ],
   "source": [
    "d = {'k1':[{'nest_key':['this is deep',['hello']]}]}\n",
    "d['k1'][0]['nest_key'][1][0]"
   ]
  },
  {
   "cell_type": "code",
   "execution_count": 33,
   "id": "99d76d07",
   "metadata": {},
   "outputs": [
    {
     "data": {
      "text/plain": [
       "'hello'"
      ]
     },
     "execution_count": 33,
     "metadata": {},
     "output_type": "execute_result"
    }
   ],
   "source": [
    "d = {'k1':[1,2,{'k2':['this is tricky',{'tough':[1,2,['hello']]}]}]}\n",
    "d['k1'][2]['k2'][1]['tough'][2][0]"
   ]
  },
  {
   "cell_type": "markdown",
   "id": "2c27a880",
   "metadata": {},
   "source": [
    "#### 14.Can you sort a dictionary? Why or why not?"
   ]
  },
  {
   "cell_type": "markdown",
   "id": "c242b8d5",
   "metadata": {},
   "source": [
    "ANS: We can not sort a dictionary because it a used for mappping and it uses key-value pairs.Therefore, its not a sequence."
   ]
  },
  {
   "cell_type": "markdown",
   "id": "6ba2fc15",
   "metadata": {},
   "source": [
    "#### 15.What is the major difference between tuples and lists?"
   ]
  },
  {
   "cell_type": "markdown",
   "id": "3f267cc6",
   "metadata": {},
   "source": [
    "ANS: Tuples are immutable. And for notation of tuple we use () not []."
   ]
  },
  {
   "cell_type": "markdown",
   "id": "318db308",
   "metadata": {},
   "source": [
    "#### 16.How do you create a tuple?"
   ]
  },
  {
   "cell_type": "code",
   "execution_count": 34,
   "id": "494c7a9f",
   "metadata": {},
   "outputs": [
    {
     "data": {
      "text/plain": [
       "(1, 2, 3)"
      ]
     },
     "execution_count": 34,
     "metadata": {},
     "output_type": "execute_result"
    }
   ],
   "source": [
    "tuple_1 = (1,2,3)\n",
    "tuple_1"
   ]
  },
  {
   "cell_type": "markdown",
   "id": "072d27f3",
   "metadata": {},
   "source": [
    "#### 17.What is unique about a set?"
   ]
  },
  {
   "cell_type": "markdown",
   "id": "8213a3c7",
   "metadata": {},
   "source": [
    "ANS: Set uses parenthesis. Objects in the set are all unique."
   ]
  },
  {
   "cell_type": "markdown",
   "id": "8b4c2a76",
   "metadata": {},
   "source": [
    "#### 18.Use a set to find the unique values of the list below:"
   ]
  },
  {
   "cell_type": "code",
   "execution_count": 35,
   "id": "326bb24f",
   "metadata": {},
   "outputs": [
    {
     "data": {
      "text/plain": [
       "{1, 2, 3, 4, 11, 22, 33}"
      ]
     },
     "execution_count": 35,
     "metadata": {},
     "output_type": "execute_result"
    }
   ],
   "source": [
    "list5 = [1,2,2,33,4,4,11,22,3,3,2]\n",
    "set(list5)"
   ]
  },
  {
   "cell_type": "markdown",
   "id": "979d6eea",
   "metadata": {},
   "source": [
    "#### 19.What will be the resulting Boolean of the following pieces of code (answer first then check by typing it in!)"
   ]
  },
  {
   "cell_type": "code",
   "execution_count": 36,
   "id": "5e8fc548",
   "metadata": {},
   "outputs": [
    {
     "data": {
      "text/plain": [
       "False"
      ]
     },
     "execution_count": 36,
     "metadata": {},
     "output_type": "execute_result"
    }
   ],
   "source": [
    "2 > 3 #False"
   ]
  },
  {
   "cell_type": "code",
   "execution_count": 37,
   "id": "820f2c77",
   "metadata": {},
   "outputs": [
    {
     "data": {
      "text/plain": [
       "False"
      ]
     },
     "execution_count": 37,
     "metadata": {},
     "output_type": "execute_result"
    }
   ],
   "source": [
    "3 <= 2 #False"
   ]
  },
  {
   "cell_type": "code",
   "execution_count": 38,
   "id": "0cd63f42",
   "metadata": {},
   "outputs": [
    {
     "data": {
      "text/plain": [
       "False"
      ]
     },
     "execution_count": 38,
     "metadata": {},
     "output_type": "execute_result"
    }
   ],
   "source": [
    "3 == 2.0 #False"
   ]
  },
  {
   "cell_type": "code",
   "execution_count": 39,
   "id": "adb60d5d",
   "metadata": {},
   "outputs": [
    {
     "data": {
      "text/plain": [
       "True"
      ]
     },
     "execution_count": 39,
     "metadata": {},
     "output_type": "execute_result"
    }
   ],
   "source": [
    "3.0 == 3 #True"
   ]
  },
  {
   "cell_type": "code",
   "execution_count": 40,
   "id": "bb8b2c8c",
   "metadata": {},
   "outputs": [
    {
     "data": {
      "text/plain": [
       "False"
      ]
     },
     "execution_count": 40,
     "metadata": {},
     "output_type": "execute_result"
    }
   ],
   "source": [
    "4**0.5 != 2 #False 2 is square root of 4."
   ]
  },
  {
   "cell_type": "markdown",
   "id": "f6aace2e",
   "metadata": {},
   "source": [
    "#### 20.What is the boolean output of the cell block below?"
   ]
  },
  {
   "cell_type": "code",
   "execution_count": 41,
   "id": "e3db9797",
   "metadata": {},
   "outputs": [
    {
     "data": {
      "text/plain": [
       "False"
      ]
     },
     "execution_count": 41,
     "metadata": {},
     "output_type": "execute_result"
    }
   ],
   "source": [
    "# two nested lists\n",
    "l_one = [1,2,[3,4]]\n",
    "l_two = [1,2,{'k1':4}]\n",
    "\n",
    "# True or False?\n",
    "l_one[2][0] >= l_two[2]['k1']   # 3 >= 4 this is false."
   ]
  },
  {
   "cell_type": "code",
   "execution_count": null,
   "id": "0204a0e4",
   "metadata": {},
   "outputs": [],
   "source": []
  }
 ],
 "metadata": {
  "kernelspec": {
   "display_name": "Python 3 (ipykernel)",
   "language": "python",
   "name": "python3"
  },
  "language_info": {
   "codemirror_mode": {
    "name": "ipython",
    "version": 3
   },
   "file_extension": ".py",
   "mimetype": "text/x-python",
   "name": "python",
   "nbconvert_exporter": "python",
   "pygments_lexer": "ipython3",
   "version": "3.9.13"
  }
 },
 "nbformat": 4,
 "nbformat_minor": 5
}
