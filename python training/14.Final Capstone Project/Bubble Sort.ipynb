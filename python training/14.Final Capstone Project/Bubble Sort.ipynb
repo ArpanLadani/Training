{
 "cells": [
  {
   "cell_type": "code",
   "execution_count": 1,
   "id": "85538ab4",
   "metadata": {},
   "outputs": [
    {
     "name": "stdout",
     "output_type": "stream",
     "text": [
      "34\n",
      "45\n",
      "32\n",
      "[34, 45, 32]\n",
      "sorted array is \n",
      "[32, 34, 45]\n"
     ]
    }
   ],
   "source": [
    "class BubbleSort:\n",
    "    def __init__(self,n=None):\n",
    "        self.n = n\n",
    "    def array(self,n):\n",
    "        a = []\n",
    "        for i in range(0, n):\n",
    "            ele = int(input())\n",
    "            a.append(ele) # adding the element\n",
    "        print(a)\n",
    "        for i in range(0,n):\n",
    "            i +=1\n",
    "            for j in range(0,n-i):\n",
    "                #swapping process\n",
    "                if a[j]>a[j+1]:\n",
    "                    temp = a[j]\n",
    "                    a[j] = a[j+1]\n",
    "                    a[j+1] = temp\n",
    "\n",
    "        print('sorted array is ')\n",
    "        print(a)\n",
    "        \n",
    "   # def sorting(self):\n",
    "        \n",
    "\n",
    "if __name__ == '__main__':\n",
    "    b = BubbleSort()\n",
    "    b.array(3)\n",
    "    \n"
   ]
  },
  {
   "cell_type": "code",
   "execution_count": null,
   "id": "9c77badf",
   "metadata": {},
   "outputs": [],
   "source": []
  }
 ],
 "metadata": {
  "kernelspec": {
   "display_name": "Python 3 (ipykernel)",
   "language": "python",
   "name": "python3"
  },
  "language_info": {
   "codemirror_mode": {
    "name": "ipython",
    "version": 3
   },
   "file_extension": ".py",
   "mimetype": "text/x-python",
   "name": "python",
   "nbconvert_exporter": "python",
   "pygments_lexer": "ipython3",
   "version": "3.9.13"
  }
 },
 "nbformat": 4,
 "nbformat_minor": 5
}
