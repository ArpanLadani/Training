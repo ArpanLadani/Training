{
 "cells": [
  {
   "cell_type": "markdown",
   "id": "4d0922ea",
   "metadata": {},
   "source": [
    "### **Pig Latin** - Pig Latin is a game of alterations played on the English language game. To create the Pig Latin form of an English word the initial consonant sound is transposed to the end of the word and an ay is affixed (Ex.: \"banana\" would yield anana-bay). Read Wikipedia for more information on rules."
   ]
  },
  {
   "cell_type": "code",
   "execution_count": 4,
   "id": "bf7b8584",
   "metadata": {},
   "outputs": [
    {
     "name": "stdout",
     "output_type": "stream",
     "text": [
      "Enter a String: Harsh\n",
      "arsh-Hay\n"
     ]
    }
   ],
   "source": [
    "string = str(input('Enter a String: '))\n",
    "words   = []\n",
    "vowels  = 'aeiouAEIOU'\n",
    "for word in string.split():\n",
    "    if len(word) > 2 and word[0] not in vowels:\n",
    "        words.append(word[1:]+'-'+word[0]+'ay')\n",
    "    else:\n",
    "        words.append(word+'-ay')\n",
    "print(' '.join(words))"
   ]
  },
  {
   "cell_type": "code",
   "execution_count": null,
   "id": "d85e9808",
   "metadata": {},
   "outputs": [],
   "source": []
  }
 ],
 "metadata": {
  "kernelspec": {
   "display_name": "Python 3 (ipykernel)",
   "language": "python",
   "name": "python3"
  },
  "language_info": {
   "codemirror_mode": {
    "name": "ipython",
    "version": 3
   },
   "file_extension": ".py",
   "mimetype": "text/x-python",
   "name": "python",
   "nbconvert_exporter": "python",
   "pygments_lexer": "ipython3",
   "version": "3.9.13"
  }
 },
 "nbformat": 4,
 "nbformat_minor": 5
}
