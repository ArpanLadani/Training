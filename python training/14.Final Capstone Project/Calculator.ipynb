{
 "cells": [
  {
   "cell_type": "markdown",
   "id": "0b90bb0d",
   "metadata": {},
   "source": [
    "### **Calculator** - A simple calculator to do basic operators. Make it a scientific calculator for added complexity."
   ]
  },
  {
   "cell_type": "code",
   "execution_count": 16,
   "id": "edd27f0f",
   "metadata": {},
   "outputs": [],
   "source": [
    "def calc(a,b,op):\n",
    "    if op == '+':\n",
    "        return(str(a) + ' ' + op + ' ' + str(b) + '=' + str(a+b))\n",
    "    elif op == '-':\n",
    "        return(str(a) + ' ' + op + ' ' + str(b) + '=' + str(a-b))\n",
    "    elif op == '*':\n",
    "        return(str(a) + ' ' + op + ' ' + str(b) + '=' + str(a*b))\n",
    "    elif op == '/':\n",
    "        return(str(a) + ' ' + op + ' ' + str(b) + '=' + str(a/b))\n",
    "    else:\n",
    "        return(\"Enter the operator from '+''-''*''/'\")"
   ]
  },
  {
   "cell_type": "code",
   "execution_count": 17,
   "id": "fa10796b",
   "metadata": {},
   "outputs": [
    {
     "name": "stdout",
     "output_type": "stream",
     "text": [
      "Please type the first number: 2\n",
      "Please type the second number: 5\n",
      "What kind of operation would you like to do?        \n",
      "Choose between \"+, -, *, /\" : +\n",
      "2 + 5=7\n"
     ]
    }
   ],
   "source": [
    "def main():  # Wrapper function\n",
    "    #taking three inputs from user\n",
    "    a = int(input('Please type the first number: '))\n",
    "    b = int(input('Please type the second number: '))\n",
    "    op = input(\n",
    "        'What kind of operation would you like to do?\\\n",
    "        \\nChoose between \"+, -, *, /\" : ')\n",
    "    #printing result of calculator.\n",
    "    print(calc(a, b, op))\n",
    "\n",
    "if __name__ == '__main__':\n",
    "    main()"
   ]
  },
  {
   "cell_type": "code",
   "execution_count": null,
   "id": "0eb45b22",
   "metadata": {},
   "outputs": [],
   "source": []
  },
  {
   "cell_type": "code",
   "execution_count": null,
   "id": "0ee1d35e",
   "metadata": {},
   "outputs": [],
   "source": []
  }
 ],
 "metadata": {
  "kernelspec": {
   "display_name": "Python 3 (ipykernel)",
   "language": "python",
   "name": "python3"
  },
  "language_info": {
   "codemirror_mode": {
    "name": "ipython",
    "version": 3
   },
   "file_extension": ".py",
   "mimetype": "text/x-python",
   "name": "python",
   "nbconvert_exporter": "python",
   "pygments_lexer": "ipython3",
   "version": "3.9.13"
  }
 },
 "nbformat": 4,
 "nbformat_minor": 5
}
