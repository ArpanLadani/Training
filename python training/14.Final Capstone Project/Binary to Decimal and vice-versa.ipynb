{
 "cells": [
  {
   "cell_type": "code",
   "execution_count": 10,
   "id": "489970b1",
   "metadata": {},
   "outputs": [],
   "source": [
    "def binaryToDecimal(n):\n",
    "    dec_value = 0\n",
    "     \n",
    "    # Initializing base\n",
    "    # value to 1, i.e 2 ^ 0\n",
    "    base = 1\n",
    "     \n",
    "    temp = n\n",
    "    while(temp):\n",
    "        last_digit = temp % 10 # 10101001 -> 1\n",
    "        temp = int(temp / 10) # 1010100\n",
    "         \n",
    "        dec_value += last_digit * base # 0+1 = 1\n",
    "        base = base * 2 # 1*2 = 2\n",
    "    return dec_value\n",
    " "
   ]
  },
  {
   "cell_type": "code",
   "execution_count": 11,
   "id": "a0de4b2c",
   "metadata": {},
   "outputs": [
    {
     "name": "stdout",
     "output_type": "stream",
     "text": [
      "169\n"
     ]
    }
   ],
   "source": [
    "n = 10101001\n",
    "print(binaryToDecimal(n))"
   ]
  },
  {
   "cell_type": "code",
   "execution_count": 43,
   "id": "c8f4c562",
   "metadata": {},
   "outputs": [],
   "source": [
    "def decimalToBinary(num):\n",
    "    bin_num = [0]*num # making an array to store.\n",
    "    i = 0\n",
    "    while(num>0):\n",
    "        bin_num[i] = num%2\n",
    "        num = int(num/2)\n",
    "        i += 1\n",
    "    \n",
    "    for j in range(i-1,-1,-1):\n",
    "        print(bin_num[j],end = '')\n",
    "    \n",
    "        \n",
    "    "
   ]
  },
  {
   "cell_type": "code",
   "execution_count": 44,
   "id": "f3b5830c",
   "metadata": {},
   "outputs": [
    {
     "name": "stdout",
     "output_type": "stream",
     "text": [
      "10101001"
     ]
    }
   ],
   "source": [
    "num = 169\n",
    "decimalToBinary(num)"
   ]
  },
  {
   "cell_type": "code",
   "execution_count": null,
   "id": "f1ef3ead",
   "metadata": {},
   "outputs": [],
   "source": []
  }
 ],
 "metadata": {
  "kernelspec": {
   "display_name": "Python 3 (ipykernel)",
   "language": "python",
   "name": "python3"
  },
  "language_info": {
   "codemirror_mode": {
    "name": "ipython",
    "version": 3
   },
   "file_extension": ".py",
   "mimetype": "text/x-python",
   "name": "python",
   "nbconvert_exporter": "python",
   "pygments_lexer": "ipython3",
   "version": "3.9.13"
  }
 },
 "nbformat": 4,
 "nbformat_minor": 5
}
