{
 "cells": [
  {
   "cell_type": "markdown",
   "id": "090dfcae",
   "metadata": {},
   "source": [
    "### **Mortgage Calculator** - Calculate the monthly payments of a fixed term mortgage over given Nth terms at a given interest rate. Also figure out how long it will take the user to pay back the loan. For added complexity, add an option for users to select the compounding interval (Monthly, Weekly, Daily, Continually)."
   ]
  },
  {
   "cell_type": "code",
   "execution_count": 5,
   "id": "50d78f57",
   "metadata": {},
   "outputs": [
    {
     "name": "stdout",
     "output_type": "stream",
     "text": [
      "Enter mortgage term (in months): 12\n",
      "Enter interest rate: 12\n",
      "Enter loan value: 120000\n",
      "Monthly payment for a RS120000.00 1.0 year mortgage at 12.00% interest rate is: Rs10661.85\n"
     ]
    }
   ],
   "source": [
    "months = int(input(\"Enter mortgage term (in months): \"))\n",
    "rate = float(input(\"Enter interest rate: \"))\n",
    "loan = float(input(\"Enter loan value: \"))\n",
    "\n",
    "monthly_rate = rate / 100 / 12\n",
    "payment = (monthly_rate / (1 - (1 + monthly_rate)**(-months))) * loan\n",
    "\n",
    "print (\"Monthly payment for a RS%.2f %s year mortgage at %.2f%% interest rate is: Rs%.2f\" % (loan, (months / 12), rate, payment))"
   ]
  },
  {
   "cell_type": "code",
   "execution_count": null,
   "id": "7bec87ae",
   "metadata": {},
   "outputs": [],
   "source": []
  }
 ],
 "metadata": {
  "kernelspec": {
   "display_name": "Python 3 (ipykernel)",
   "language": "python",
   "name": "python3"
  },
  "language_info": {
   "codemirror_mode": {
    "name": "ipython",
    "version": 3
   },
   "file_extension": ".py",
   "mimetype": "text/x-python",
   "name": "python",
   "nbconvert_exporter": "python",
   "pygments_lexer": "ipython3",
   "version": "3.9.13"
  }
 },
 "nbformat": 4,
 "nbformat_minor": 5
}
