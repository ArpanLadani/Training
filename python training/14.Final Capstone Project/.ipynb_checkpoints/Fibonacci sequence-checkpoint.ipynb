{
 "cells": [
  {
   "cell_type": "markdown",
   "id": "372f67dc",
   "metadata": {},
   "source": [
    "### **Fibonacci Sequence** - Enter a number and have the program generate the Fibonacci sequence to that number or to the Nth number."
   ]
  },
  {
   "cell_type": "code",
   "execution_count": 12,
   "id": "910ceb46",
   "metadata": {},
   "outputs": [],
   "source": [
    "class fibonacci:    \n",
    "    def __init__(self,num):\n",
    "        self.num = num\n",
    "        \n",
    "    def fibo_seq(self):\n",
    "        sequence = []\n",
    "        a = 0\n",
    "        b = 1\n",
    "        for i in range(self.num):\n",
    "            sequence.append(a)\n",
    "            a,b = b,a+b\n",
    "        return sequence         \n",
    "        "
   ]
  },
  {
   "cell_type": "code",
   "execution_count": 13,
   "id": "9e3efadd",
   "metadata": {},
   "outputs": [],
   "source": [
    "result = fibonacci(10)"
   ]
  },
  {
   "cell_type": "code",
   "execution_count": 14,
   "id": "e5c1c44a",
   "metadata": {},
   "outputs": [
    {
     "data": {
      "text/plain": [
       "[0, 1, 1, 2, 3, 5, 8, 13, 21, 34]"
      ]
     },
     "execution_count": 14,
     "metadata": {},
     "output_type": "execute_result"
    }
   ],
   "source": [
    "result.fibo_seq()"
   ]
  },
  {
   "cell_type": "code",
   "execution_count": null,
   "id": "b2fc1d41",
   "metadata": {},
   "outputs": [],
   "source": []
  }
 ],
 "metadata": {
  "kernelspec": {
   "display_name": "Python 3 (ipykernel)",
   "language": "python",
   "name": "python3"
  },
  "language_info": {
   "codemirror_mode": {
    "name": "ipython",
    "version": 3
   },
   "file_extension": ".py",
   "mimetype": "text/x-python",
   "name": "python",
   "nbconvert_exporter": "python",
   "pygments_lexer": "ipython3",
   "version": "3.9.13"
  }
 },
 "nbformat": 4,
 "nbformat_minor": 5
}
