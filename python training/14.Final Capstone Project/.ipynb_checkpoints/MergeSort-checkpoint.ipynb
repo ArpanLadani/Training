{
 "cells": [
  {
   "cell_type": "code",
   "execution_count": 5,
   "id": "9a455ed8",
   "metadata": {},
   "outputs": [],
   "source": [
    "def mergeSort(arr):\n",
    "        if len(arr) > 1:\n",
    " \n",
    "            # Create sub_array2 -> A[start..mid] and sub_array2 -> A[mid+1..end]\n",
    "            mid = len(arr)//2\n",
    "            sub_array1 = arr[:mid] #[10,9,2]\n",
    "            sub_array2 = arr[mid:] #[4,6,13]\n",
    " \n",
    "            # Sort the two halves\n",
    "            mergeSort(sub_array1) #recursion\n",
    "            mergeSort(sub_array2)\n",
    "         \n",
    "            # Initial values for pointers that we use to keep track of where we are in each array\n",
    "            i = j = k = 0\n",
    " \n",
    "        # Until we reach the end of either start or end, pick larger among\n",
    "        # elements start and end and place them in the correct position in the sorted array\n",
    "            while i < len(sub_array1) and j < len(sub_array2):\n",
    "                if sub_array1[i] < sub_array2[j]: \n",
    "                    arr[k] = sub_array1[i] \n",
    "                    i += 1 \n",
    "                else: \n",
    "                    arr[k] = sub_array2[j] \n",
    "                    j += 1 \n",
    "                k += 1\n",
    " \n",
    "        # When all elements are traversed in either arr1 or arr2,\n",
    "        # pick up the remaining elements and put in sorted array\n",
    "            while i < len(sub_array1):\n",
    "                arr[k] = sub_array1[i]\n",
    "                i += 1\n",
    "                k += 1\n",
    " \n",
    "            while j < len(sub_array2):\n",
    "                arr[k] = sub_array2[j]\n",
    "                j += 1\n",
    "                k += 1\n"
   ]
  },
  {
   "cell_type": "code",
   "execution_count": 6,
   "id": "811f79f6",
   "metadata": {},
   "outputs": [
    {
     "name": "stdout",
     "output_type": "stream",
     "text": [
      "[2, 4, 6, 9, 10, 13]\n"
     ]
    }
   ],
   "source": [
    "arr = [10, 9, 2, 4, 6, 13]\n",
    "mergeSort(arr)\n",
    "print(arr)"
   ]
  },
  {
   "cell_type": "code",
   "execution_count": null,
   "id": "f625a591",
   "metadata": {},
   "outputs": [],
   "source": []
  }
 ],
 "metadata": {
  "kernelspec": {
   "display_name": "Python 3 (ipykernel)",
   "language": "python",
   "name": "python3"
  },
  "language_info": {
   "codemirror_mode": {
    "name": "ipython",
    "version": 3
   },
   "file_extension": ".py",
   "mimetype": "text/x-python",
   "name": "python",
   "nbconvert_exporter": "python",
   "pygments_lexer": "ipython3",
   "version": "3.9.13"
  }
 },
 "nbformat": 4,
 "nbformat_minor": 5
}
