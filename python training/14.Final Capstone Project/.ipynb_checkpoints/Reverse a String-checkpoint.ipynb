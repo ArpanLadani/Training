{
 "cells": [
  {
   "cell_type": "markdown",
   "id": "150471c3",
   "metadata": {},
   "source": [
    "### **Reverse a String** - Enter a string and the program will reverse it and print it out."
   ]
  },
  {
   "cell_type": "code",
   "execution_count": 3,
   "id": "254c99ba",
   "metadata": {},
   "outputs": [
    {
     "data": {
      "text/plain": [
       "'naprA'"
      ]
     },
     "execution_count": 3,
     "metadata": {},
     "output_type": "execute_result"
    }
   ],
   "source": [
    "string = 'Arpan'\n",
    "string[::-1]"
   ]
  },
  {
   "cell_type": "code",
   "execution_count": null,
   "id": "ae71a231",
   "metadata": {},
   "outputs": [],
   "source": []
  }
 ],
 "metadata": {
  "kernelspec": {
   "display_name": "Python 3 (ipykernel)",
   "language": "python",
   "name": "python3"
  },
  "language_info": {
   "codemirror_mode": {
    "name": "ipython",
    "version": 3
   },
   "file_extension": ".py",
   "mimetype": "text/x-python",
   "name": "python",
   "nbconvert_exporter": "python",
   "pygments_lexer": "ipython3",
   "version": "3.9.13"
  }
 },
 "nbformat": 4,
 "nbformat_minor": 5
}
