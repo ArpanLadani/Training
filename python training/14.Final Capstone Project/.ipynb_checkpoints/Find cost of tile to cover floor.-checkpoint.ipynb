{
 "cells": [
  {
   "cell_type": "code",
   "execution_count": 3,
   "id": "e076b4b3",
   "metadata": {},
   "outputs": [
    {
     "name": "stdout",
     "output_type": "stream",
     "text": [
      "Width of floor: 34\n",
      "Length of floor: 45\n",
      "Cost of Tile: 100\n",
      "Width of Tile: 2\n",
      "Lenght of Tile: 2\n",
      "Cost to tile a 34.00 x 45.00 floor is: Rs38250.00\n"
     ]
    }
   ],
   "source": [
    "width = float(input(\"Width of floor: \"))\n",
    "length = float(input(\"Length of floor: \"))\n",
    "cost = float(input(\"Cost of Tile: \"))\n",
    "width_tile = float(input(\"Width of Tile: \"))\n",
    "length_tile = float(input(\"Lenght of Tile: \"))\n",
    "\n",
    "print (\"Cost to tile a %.2f x %.2f floor is: Rs%.2f\" % (width, length,(((width * length)/(width_tile * length_tile)) * cost)))"
   ]
  },
  {
   "cell_type": "code",
   "execution_count": null,
   "id": "f626417d",
   "metadata": {},
   "outputs": [],
   "source": []
  }
 ],
 "metadata": {
  "kernelspec": {
   "display_name": "Python 3 (ipykernel)",
   "language": "python",
   "name": "python3"
  },
  "language_info": {
   "codemirror_mode": {
    "name": "ipython",
    "version": 3
   },
   "file_extension": ".py",
   "mimetype": "text/x-python",
   "name": "python",
   "nbconvert_exporter": "python",
   "pygments_lexer": "ipython3",
   "version": "3.9.13"
  }
 },
 "nbformat": 4,
 "nbformat_minor": 5
}
