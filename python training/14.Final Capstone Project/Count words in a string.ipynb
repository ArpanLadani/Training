{
 "cells": [
  {
   "cell_type": "markdown",
   "id": "082093cc",
   "metadata": {},
   "source": [
    "### **Count Words in a String** - Counts the number of individual words in a string. For added complexity read these strings in from a text file and generate a summary."
   ]
  },
  {
   "cell_type": "code",
   "execution_count": 3,
   "id": "3a6cafab",
   "metadata": {},
   "outputs": [
    {
     "name": "stdout",
     "output_type": "stream",
     "text": [
      "Enter a String: Arpan is good boy\n",
      "4\n"
     ]
    }
   ],
   "source": [
    "string = str(input('Enter a String: '))\n",
    "count = len(string.split())\n",
    "print(count)"
   ]
  },
  {
   "cell_type": "code",
   "execution_count": null,
   "id": "abf96d4e",
   "metadata": {},
   "outputs": [],
   "source": []
  },
  {
   "cell_type": "code",
   "execution_count": null,
   "id": "ae9c9e57",
   "metadata": {},
   "outputs": [],
   "source": []
  }
 ],
 "metadata": {
  "kernelspec": {
   "display_name": "Python 3 (ipykernel)",
   "language": "python",
   "name": "python3"
  },
  "language_info": {
   "codemirror_mode": {
    "name": "ipython",
    "version": 3
   },
   "file_extension": ".py",
   "mimetype": "text/x-python",
   "name": "python",
   "nbconvert_exporter": "python",
   "pygments_lexer": "ipython3",
   "version": "3.9.13"
  }
 },
 "nbformat": 4,
 "nbformat_minor": 5
}
