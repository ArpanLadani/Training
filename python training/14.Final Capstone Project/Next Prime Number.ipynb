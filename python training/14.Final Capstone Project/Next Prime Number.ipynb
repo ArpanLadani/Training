{
 "cells": [
  {
   "cell_type": "markdown",
   "id": "be9ff27c",
   "metadata": {},
   "source": [
    "### **Next Prime Number** - Have the program find prime numbers until the user chooses to stop asking for the next one.\n"
   ]
  },
  {
   "cell_type": "code",
   "execution_count": null,
   "id": "8e1095a8",
   "metadata": {},
   "outputs": [
    {
     "name": "stdout",
     "output_type": "stream",
     "text": [
      "Press Enter to generate next prime number, 's' to stop.\n",
      "\n",
      "2\n",
      "\n",
      "3\n",
      "\n",
      "5\n",
      "\n",
      "7\n",
      "\n",
      "11\n",
      "\n",
      "13\n",
      "\n",
      "17\n",
      "\n",
      "19\n",
      "\n",
      "23\n",
      "\n",
      "29\n",
      "\n",
      "31\n",
      "\n",
      "37\n",
      "\n",
      "41\n",
      "\n",
      "43\n",
      "\n",
      "47\n",
      "\n",
      "53\n",
      "\n",
      "59\n",
      "\n",
      "61\n",
      "\n",
      "67\n",
      "\n",
      "71\n"
     ]
    }
   ],
   "source": [
    "def isprime(num):\n",
    "    if num > 1:\n",
    "        if num == 2:\n",
    "            return True\n",
    "        if num % 2 == 0:\n",
    "            return False\n",
    "        for i in range(3,num,2):\n",
    "            if num % i == 0:\n",
    "                return False\n",
    "        return True\n",
    "    return False\n",
    "\n",
    "def gen_prime():\n",
    "    yield 2\n",
    "    num = 3\n",
    "    while(True):\n",
    "        if isprime(num):\n",
    "            yield num\n",
    "        num += 2\n",
    "    \n",
    "def main():\n",
    "    print (\"Press Enter to generate next prime number, 's' to stop.\")\n",
    "    generator = gen_prime()\n",
    "    while True:\n",
    "        ans = input()\n",
    "\n",
    "        if ans == 's':\n",
    "            break\n",
    "        else:\n",
    "            print(next(generator))\n",
    "\n",
    "if __name__ == '__main__':\n",
    "    main()"
   ]
  },
  {
   "cell_type": "code",
   "execution_count": 29,
   "id": "05b994b0",
   "metadata": {},
   "outputs": [],
   "source": []
  },
  {
   "cell_type": "code",
   "execution_count": 30,
   "id": "61ec10a5",
   "metadata": {},
   "outputs": [],
   "source": []
  },
  {
   "cell_type": "code",
   "execution_count": 31,
   "id": "bbf176c2",
   "metadata": {},
   "outputs": [
    {
     "data": {
      "text/plain": [
       "set"
      ]
     },
     "execution_count": 31,
     "metadata": {},
     "output_type": "execute_result"
    }
   ],
   "source": []
  },
  {
   "cell_type": "code",
   "execution_count": null,
   "id": "e411e576",
   "metadata": {},
   "outputs": [],
   "source": []
  }
 ],
 "metadata": {
  "kernelspec": {
   "display_name": "Python 3 (ipykernel)",
   "language": "python",
   "name": "python3"
  },
  "language_info": {
   "codemirror_mode": {
    "name": "ipython",
    "version": 3
   },
   "file_extension": ".py",
   "mimetype": "text/x-python",
   "name": "python",
   "nbconvert_exporter": "python",
   "pygments_lexer": "ipython3",
   "version": "3.9.13"
  }
 },
 "nbformat": 4,
 "nbformat_minor": 5
}
