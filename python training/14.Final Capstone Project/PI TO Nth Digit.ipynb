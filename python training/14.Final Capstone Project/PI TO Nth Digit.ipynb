{
 "cells": [
  {
   "cell_type": "markdown",
   "id": "066980c3",
   "metadata": {},
   "source": [
    "### Find PI to the Nth Digit"
   ]
  },
  {
   "cell_type": "markdown",
   "id": "f9c092c1",
   "metadata": {},
   "source": [
    "#### Enter a number and have the program generate &pi; (pi) up to that many decimal places. Keep a limit to how far the program will go."
   ]
  },
  {
   "cell_type": "code",
   "execution_count": 1,
   "id": "57bf5c9c",
   "metadata": {},
   "outputs": [],
   "source": [
    "pi = 22/7"
   ]
  },
  {
   "cell_type": "code",
   "execution_count": 2,
   "id": "8f2020a5",
   "metadata": {},
   "outputs": [
    {
     "data": {
      "text/plain": [
       "3.142857142857143"
      ]
     },
     "execution_count": 2,
     "metadata": {},
     "output_type": "execute_result"
    }
   ],
   "source": [
    "pi"
   ]
  },
  {
   "cell_type": "code",
   "execution_count": 17,
   "id": "f7101843",
   "metadata": {},
   "outputs": [
    {
     "data": {
      "text/plain": [
       "3.142857142857143"
      ]
     },
     "execution_count": 17,
     "metadata": {},
     "output_type": "execute_result"
    }
   ],
   "source": [
    "round(pi,20)"
   ]
  },
  {
   "cell_type": "markdown",
   "id": "769e5cd8",
   "metadata": {},
   "source": [
    "###### https://github.com/rlingineni/PythonPractice/blob/master/piCalc/pi.py\n",
    "import math \n",
    "\n",
    "def CalculatePi(roundVal):\n",
    "\n",
    "\t\tsomepi = round(math.pi,roundVal);\n",
    "\t\tpi = str(somepi)\n",
    "\t\tsomeList = list(pi)\n",
    "\t\treturn somepi;\n",
    "roundTo = input('Enter the number of digits you want after the decimal for Pi: ')\n",
    "try:\n",
    "\troundint = int(roundTo);\n",
    "\tprint(CalculatePi(roundint));\n",
    "except:\n",
    "\tprint(\"You did not enter an integer\");"
   ]
  },
  {
   "cell_type": "code",
   "execution_count": 21,
   "id": "e2d636b7",
   "metadata": {},
   "outputs": [
    {
     "name": "stdout",
     "output_type": "stream",
     "text": [
      "Enter the number of decimals to calculate to: 500\n",
      "3.14159265358979323846264338327950288419\n",
      "7169399375105820974944592307816406286208\n",
      "9986280348253421170679821480865132823066\n",
      "4709384460955058223172535940812848111745\n",
      "0284102701938521105559644622948954930381\n",
      "9644288109756659334461284756482337867831\n",
      "6527120190914564856692346034861045432664\n",
      "8213393607260249141273724587006606315588\n",
      "1748815209209628292540917153643678925903\n",
      "6001133053054882046652138414695194151160\n",
      "9433057270365759591953092186117381932611\n",
      "7931051185480744623799627495673518857527\n",
      "2489122793818301194912\n"
     ]
    }
   ],
   "source": [
    "#!/usr/bin/env python3\n",
    "# https://github.com/MrBlaise/learnpython/blob/master/Numbers/pi.py\n",
    "# Find PI to the Nth Digit\n",
    "# Have the user enter a number 'n'\n",
    "# and print out PI to the 'n'th digit\n",
    "\n",
    "def calcPi(limit):  # Generator function\n",
    "    \"\"\"\n",
    "    Prints out the digits of PI\n",
    "    until it reaches the given limit\n",
    "    \"\"\"\n",
    "\n",
    "    q, r, t, k, n, l = 1, 0, 1, 1, 3, 3\n",
    "\n",
    "    decimal = limit\n",
    "    counter = 0\n",
    "\n",
    "    while counter != decimal + 1:\n",
    "            if 4 * q + r - t < n * t:\n",
    "                    # yield digit\n",
    "                    yield n\n",
    "                    # insert period after first digit\n",
    "                    if counter == 0:\n",
    "                            yield '.'\n",
    "                    # end\n",
    "                    if decimal == counter:\n",
    "                            print('')\n",
    "                            break\n",
    "                    counter += 1\n",
    "                    nr = 10 * (r - n * t)\n",
    "                    n = ((10 * (3 * q + r)) // t) - 10 * n\n",
    "                    q *= 10\n",
    "                    r = nr\n",
    "            else:\n",
    "                    nr = (2 * q + r) * l\n",
    "                    nn = (q * (7 * k) + 2 + (r * l)) // (t * l)\n",
    "                    q *= k\n",
    "                    t *= l\n",
    "                    l += 2\n",
    "                    k += 1\n",
    "                    n = nn\n",
    "                    r = nr\n",
    "\n",
    "\n",
    "def main():  # Wrapper function\n",
    "\n",
    "    # Calls CalcPi with the given limit\n",
    "    pi_digits = calcPi(int(input(\n",
    "        \"Enter the number of decimals to calculate to: \")))\n",
    "\n",
    "    i = 0\n",
    "\n",
    "    # Prints the output of calcPi generator function\n",
    "    # Inserts a newline after every 40th number\n",
    "    for d in pi_digits:\n",
    "            print(d, end='')\n",
    "            i += 1\n",
    "            if i == 40:\n",
    "                print(\"\")\n",
    "                i = 0\n",
    "\n",
    "if __name__ == '__main__':\n",
    "    main()"
   ]
  },
  {
   "cell_type": "code",
   "execution_count": 19,
   "id": "619624c7",
   "metadata": {},
   "outputs": [
    {
     "name": "stdout",
     "output_type": "stream",
     "text": [
      "Enter the number of decimal places to display: 100\n",
      "The value of pi is approximately: 3.1415926535897931159979634685441851615905761718750000000000000000000000000000000000000000000000000000\n"
     ]
    }
   ],
   "source": [
    "import math # Set the number of decimal places to display\n",
    "decimal_places = int(input(\"Enter the number of decimal places to display: \")) # Limit the number of decimal places\n",
    "'''if decimal_places > 25:\n",
    "    decimal_places = 15\n",
    "elif decimal_places < 1:\n",
    "    decimal_places = 1 # Calculate pi and display it to the specified number of decimal places'''\n",
    "print(\"The value of pi is approximately: {0:.{1}f}\".format(math.pi, decimal_places))"
   ]
  },
  {
   "cell_type": "code",
   "execution_count": null,
   "id": "93a903f5",
   "metadata": {},
   "outputs": [],
   "source": []
  }
 ],
 "metadata": {
  "kernelspec": {
   "display_name": "Python 3 (ipykernel)",
   "language": "python",
   "name": "python3"
  },
  "language_info": {
   "codemirror_mode": {
    "name": "ipython",
    "version": 3
   },
   "file_extension": ".py",
   "mimetype": "text/x-python",
   "name": "python",
   "nbconvert_exporter": "python",
   "pygments_lexer": "ipython3",
   "version": "3.9.13"
  }
 },
 "nbformat": 4,
 "nbformat_minor": 5
}
