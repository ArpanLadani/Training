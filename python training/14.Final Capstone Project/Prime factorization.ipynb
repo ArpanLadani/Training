{
 "cells": [
  {
   "cell_type": "markdown",
   "id": "099a375e",
   "metadata": {},
   "source": [
    "### **Prime Factorization** - Have the user enter a number and find all Prime Factors (if there are any) and display them."
   ]
  },
  {
   "cell_type": "code",
   "execution_count": 93,
   "id": "7c4204e6",
   "metadata": {},
   "outputs": [
    {
     "name": "stdout",
     "output_type": "stream",
     "text": [
      "Enter an integer:6500\n",
      "Factors are:\n",
      "2\n",
      "5\n",
      "13\n"
     ]
    }
   ],
   "source": [
    "n=int(input(\"Enter an integer:\"))\n",
    "print(\"Factors are:\")\n",
    "i=1\n",
    "while(i<=n): #if i less than or equal the input number.\n",
    "    k=0\n",
    "    if(n%i==0): #if factor \n",
    "        j=1 \n",
    "        while(j<=i): \n",
    "            if(i%j==0): #checking if i is divisible by j.\n",
    "                k=k+1 #if divisible just incrementing the counter.\n",
    "            j=j+1 \n",
    "        if(k==2): #as if a number should have less than or equal to 2 factors to be prime so... \n",
    "            print(i)\n",
    "    i=i+1 #incrementing i"
   ]
  },
  {
   "cell_type": "code",
   "execution_count": null,
   "id": "12fd54e7",
   "metadata": {},
   "outputs": [],
   "source": []
  },
  {
   "cell_type": "code",
   "execution_count": null,
   "id": "bd2747b1",
   "metadata": {},
   "outputs": [],
   "source": []
  },
  {
   "cell_type": "code",
   "execution_count": null,
   "id": "75377c40",
   "metadata": {},
   "outputs": [],
   "source": []
  },
  {
   "cell_type": "code",
   "execution_count": null,
   "id": "e0cb64d5",
   "metadata": {},
   "outputs": [],
   "source": []
  }
 ],
 "metadata": {
  "kernelspec": {
   "display_name": "Python 3 (ipykernel)",
   "language": "python",
   "name": "python3"
  },
  "language_info": {
   "codemirror_mode": {
    "name": "ipython",
    "version": 3
   },
   "file_extension": ".py",
   "mimetype": "text/x-python",
   "name": "python",
   "nbconvert_exporter": "python",
   "pygments_lexer": "ipython3",
   "version": "3.9.13"
  }
 },
 "nbformat": 4,
 "nbformat_minor": 5
}
