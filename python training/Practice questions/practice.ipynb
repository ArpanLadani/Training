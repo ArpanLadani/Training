{
 "cells": [
  {
   "cell_type": "code",
   "execution_count": 1,
   "id": "9f0ae05a",
   "metadata": {},
   "outputs": [],
   "source": [
    "tup = (\"l\", 3, \"n\", \"e\", \"p\", \"t\", \"b\", \"k\", \"f\", \"a\")"
   ]
  },
  {
   "cell_type": "code",
   "execution_count": 12,
   "id": "e5be6a0c",
   "metadata": {},
   "outputs": [
    {
     "data": {
      "text/plain": [
       "'b'"
      ]
     },
     "execution_count": 12,
     "metadata": {},
     "output_type": "execute_result"
    }
   ],
   "source": [
    "list(tup)\n",
    "tup[-4]"
   ]
  },
  {
   "cell_type": "code",
   "execution_count": null,
   "id": "6396df18",
   "metadata": {},
   "outputs": [],
   "source": []
  },
  {
   "cell_type": "code",
   "execution_count": null,
   "id": "2c2a1efd",
   "metadata": {},
   "outputs": [],
   "source": []
  }
 ],
 "metadata": {
  "kernelspec": {
   "display_name": "Python 3 (ipykernel)",
   "language": "python",
   "name": "python3"
  },
  "language_info": {
   "codemirror_mode": {
    "name": "ipython",
    "version": 3
   },
   "file_extension": ".py",
   "mimetype": "text/x-python",
   "name": "python",
   "nbconvert_exporter": "python",
   "pygments_lexer": "ipython3",
   "version": "3.9.13"
  }
 },
 "nbformat": 4,
 "nbformat_minor": 5
}
