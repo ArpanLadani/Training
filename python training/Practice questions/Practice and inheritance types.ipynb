{
 "cells": [
  {
   "cell_type": "markdown",
   "id": "67a07167",
   "metadata": {},
   "source": [
    "#### Program 1 \n",
    "Check if number 13 is present in a list. Print \"yes\" if 13 is present and print \"no\" if 13 is not present in a list "
   ]
  },
  {
   "cell_type": "code",
   "execution_count": 12,
   "id": "dc48d363",
   "metadata": {},
   "outputs": [],
   "source": [
    "a = [1,2,3,4.2,3211.12,2323,45,13]"
   ]
  },
  {
   "cell_type": "code",
   "execution_count": 13,
   "id": "d5a334f4",
   "metadata": {},
   "outputs": [
    {
     "name": "stdout",
     "output_type": "stream",
     "text": [
      "yes\n"
     ]
    }
   ],
   "source": [
    "if 13 in a:\n",
    "    print(\"yes\")\n",
    "else:\n",
    "    print(\"no\")"
   ]
  },
  {
   "cell_type": "markdown",
   "id": "ceb57a84",
   "metadata": {},
   "source": [
    "#### Program 2\n",
    "What is lambda function, and how does it work?"
   ]
  },
  {
   "cell_type": "markdown",
   "id": "3d894669",
   "metadata": {},
   "source": [
    "A lambda function is a small anonymous function. A lambda function can take any number of arguments, but can only have one expression. It allows you to supply a function as a parameter to a different function."
   ]
  },
  {
   "cell_type": "code",
   "execution_count": 15,
   "id": "a4bbcb91",
   "metadata": {},
   "outputs": [],
   "source": [
    "#simple method\n",
    "def square(num):\n",
    "    result =  num**2\n",
    "    return result"
   ]
  },
  {
   "cell_type": "code",
   "execution_count": 16,
   "id": "11c56cb4",
   "metadata": {},
   "outputs": [
    {
     "data": {
      "text/plain": [
       "9"
      ]
     },
     "execution_count": 16,
     "metadata": {},
     "output_type": "execute_result"
    }
   ],
   "source": [
    "square(3)"
   ]
  },
  {
   "cell_type": "code",
   "execution_count": 19,
   "id": "fd2baa38",
   "metadata": {},
   "outputs": [],
   "source": [
    "#lambda expression\n",
    "square_2 = lambda num : num**2"
   ]
  },
  {
   "cell_type": "code",
   "execution_count": 21,
   "id": "235b6156",
   "metadata": {},
   "outputs": [
    {
     "data": {
      "text/plain": [
       "16"
      ]
     },
     "execution_count": 21,
     "metadata": {},
     "output_type": "execute_result"
    }
   ],
   "source": [
    "square_2(4)"
   ]
  },
  {
   "cell_type": "markdown",
   "id": "af1c89e5",
   "metadata": {},
   "source": [
    "#### Program 3\n",
    "### Print the following pattern using for loop:\n",
    "#### *\n",
    "#### **\n",
    "#### ***\n",
    "#### ****\n",
    "#### *****"
   ]
  },
  {
   "cell_type": "code",
   "execution_count": 49,
   "id": "5c49a247",
   "metadata": {},
   "outputs": [
    {
     "name": "stdout",
     "output_type": "stream",
     "text": [
      "*\r\n",
      "**\r\n",
      "***\r\n",
      "****\r\n",
      "*****\r\n"
     ]
    }
   ],
   "source": [
    "for i in range(0,5):\n",
    "    for j in range(0,i+1):\n",
    "        print('*',end = \"\")\n",
    "        \n",
    "    print('\\r')\n",
    "\n",
    "        "
   ]
  },
  {
   "cell_type": "code",
   "execution_count": 50,
   "id": "6a7adf4a",
   "metadata": {},
   "outputs": [
    {
     "name": "stdout",
     "output_type": "stream",
     "text": [
      "*****\r\n",
      " ****\r\n",
      "  ***\r\n",
      "   **\r\n",
      "    *\r\n"
     ]
    }
   ],
   "source": [
    "for i in range(0,5):\n",
    "    for j in range(0,i):\n",
    "        print(' ',end = \"\")\n",
    "    for j in range(0,5-i):\n",
    "        print('*',end = \"\")    \n",
    "    print('\\r')\n"
   ]
  },
  {
   "cell_type": "code",
   "execution_count": 51,
   "id": "8cf0a519",
   "metadata": {},
   "outputs": [
    {
     "name": "stdout",
     "output_type": "stream",
     "text": [
      "*****\r\n",
      "****\r\n",
      "***\r\n",
      "**\r\n",
      "*\r\n"
     ]
    }
   ],
   "source": [
    "for i in range(0,5):\n",
    "    for j in range(0,i):\n",
    "        print('',end = \"\")\n",
    "    for j in range(0,5-i):\n",
    "        print('*',end = \"\")    \n",
    "    print('\\r')\n"
   ]
  },
  {
   "cell_type": "code",
   "execution_count": 52,
   "id": "7b08a3d9",
   "metadata": {},
   "outputs": [
    {
     "name": "stdout",
     "output_type": "stream",
     "text": [
      "* * * * * \r\n",
      " * * * * \r\n",
      "  * * * \r\n",
      "   * * \r\n",
      "    * \r\n"
     ]
    }
   ],
   "source": [
    "for i in range(0,5):\n",
    "    for j in range(0,i):\n",
    "        print(' ',end = \"\")\n",
    "    for j in range(0,5-i):\n",
    "        print('* ',end = \"\")    \n",
    "    print('\\r')"
   ]
  },
  {
   "cell_type": "markdown",
   "id": "713521cc",
   "metadata": {},
   "source": [
    "#### Problem 3\n",
    "Print the summation of all numbers from 1 to 100."
   ]
  },
  {
   "cell_type": "code",
   "execution_count": 57,
   "id": "7cf34403",
   "metadata": {},
   "outputs": [
    {
     "name": "stdout",
     "output_type": "stream",
     "text": [
      "5050\n"
     ]
    }
   ],
   "source": [
    "sum = 0\n",
    "for i in range(0,101):\n",
    "    sum += i\n",
    "print(sum)"
   ]
  },
  {
   "cell_type": "markdown",
   "id": "6d0499e2",
   "metadata": {},
   "source": [
    "#### Problem 4\n",
    "Create a list of random elements and then randomise elements of that list."
   ]
  },
  {
   "cell_type": "code",
   "execution_count": 74,
   "id": "91026fa2",
   "metadata": {},
   "outputs": [
    {
     "name": "stdout",
     "output_type": "stream",
     "text": [
      "[1, 2, 3, 4, 5]\n",
      "[2, 3, 4, 1, 5]\n"
     ]
    }
   ],
   "source": [
    "import random\n",
    "l = [1,2,3,4,5]\n",
    "print(l)\n",
    "random.shuffle(l)\n",
    "print(l)"
   ]
  },
  {
   "cell_type": "code",
   "execution_count": null,
   "id": "f0662cd1",
   "metadata": {},
   "outputs": [],
   "source": []
  },
  {
   "cell_type": "code",
   "execution_count": 13,
   "id": "e9b6afd9",
   "metadata": {},
   "outputs": [],
   "source": [
    "class Animal:\n",
    "    def func(self):\n",
    "        print(\"Arpan\")\n",
    "    \n",
    "class Cat(Animal):\n",
    "    def func1(self):\n",
    "        pass\n",
    "\n",
    "class Rat(Animal):\n",
    "    def func2(self):\n",
    "        pass\n",
    "\n",
    "class Horse(Cat,Rat):\n",
    "    def func3(self):\n",
    "        pass\n",
    "    \n",
    "\n",
    "        "
   ]
  },
  {
   "cell_type": "code",
   "execution_count": 14,
   "id": "eb21a051",
   "metadata": {},
   "outputs": [],
   "source": [
    "instance = Horse()"
   ]
  },
  {
   "cell_type": "code",
   "execution_count": 15,
   "id": "ac3b6217",
   "metadata": {},
   "outputs": [
    {
     "name": "stdout",
     "output_type": "stream",
     "text": [
      "Arpan\n"
     ]
    }
   ],
   "source": [
    "instance.func()"
   ]
  },
  {
   "cell_type": "code",
   "execution_count": 16,
   "id": "9a097dd2",
   "metadata": {},
   "outputs": [],
   "source": [
    "class Animal(Cat):\n",
    "    def func(self):\n",
    "        print(\"Arpan\")\n",
    "        \n",
    "class Cat(Animal):\n",
    "    def func1(self):\n",
    "        print(\"Ladani\")"
   ]
  },
  {
   "cell_type": "code",
   "execution_count": 17,
   "id": "35399036",
   "metadata": {},
   "outputs": [],
   "source": [
    "instance = Cat()"
   ]
  },
  {
   "cell_type": "code",
   "execution_count": 18,
   "id": "468b2764",
   "metadata": {},
   "outputs": [
    {
     "name": "stdout",
     "output_type": "stream",
     "text": [
      "Arpan\n"
     ]
    }
   ],
   "source": [
    "instance.func()"
   ]
  },
  {
   "cell_type": "code",
   "execution_count": 19,
   "id": "47caf5a9",
   "metadata": {},
   "outputs": [],
   "source": [
    "instance2 = Animal()"
   ]
  },
  {
   "cell_type": "code",
   "execution_count": 20,
   "id": "c8a72dac",
   "metadata": {},
   "outputs": [],
   "source": [
    "instance2.func1()"
   ]
  },
  {
   "cell_type": "code",
   "execution_count": 23,
   "id": "f6a7614f",
   "metadata": {},
   "outputs": [],
   "source": [
    "class Human(Animal):\n",
    "    def __init__(self,name):\n",
    "        self.name = name\n",
    "    def Hit(self):\n",
    "        print('Hit')\n",
    "        \n",
    "class Animal(Human):\n",
    "    def __init__(self,name):\n",
    "        self.name = name\n",
    "    def bark(self):\n",
    "        print('bark')"
   ]
  },
  {
   "cell_type": "code",
   "execution_count": 24,
   "id": "871d5c2c",
   "metadata": {},
   "outputs": [],
   "source": [
    "class Human(Animal):\n",
    "    def __init__(self):\n",
    "        pass\n",
    "    def Hit(self):\n",
    "        print('Hit')\n",
    "        \n",
    "class Animal(Human):\n",
    "    def __init__(self):\n",
    "        pass\n",
    "    def bark(self):\n",
    "        print('bark')\n"
   ]
  },
  {
   "cell_type": "code",
   "execution_count": 25,
   "id": "516e0d08",
   "metadata": {},
   "outputs": [
    {
     "name": "stdout",
     "output_type": "stream",
     "text": [
      "Hit\n"
     ]
    }
   ],
   "source": [
    "animal = Animal()\n",
    "animal.Hit()"
   ]
  },
  {
   "cell_type": "code",
   "execution_count": 27,
   "id": "11db3599",
   "metadata": {},
   "outputs": [
    {
     "name": "stdout",
     "output_type": "stream",
     "text": [
      "bark\n"
     ]
    }
   ],
   "source": [
    "human = Human()\n",
    "human.bark()"
   ]
  },
  {
   "cell_type": "code",
   "execution_count": null,
   "id": "fb35642b",
   "metadata": {},
   "outputs": [],
   "source": []
  }
 ],
 "metadata": {
  "kernelspec": {
   "display_name": "Python 3 (ipykernel)",
   "language": "python",
   "name": "python3"
  },
  "language_info": {
   "codemirror_mode": {
    "name": "ipython",
    "version": 3
   },
   "file_extension": ".py",
   "mimetype": "text/x-python",
   "name": "python",
   "nbconvert_exporter": "python",
   "pygments_lexer": "ipython3",
   "version": "3.9.13"
  }
 },
 "nbformat": 4,
 "nbformat_minor": 5
}
