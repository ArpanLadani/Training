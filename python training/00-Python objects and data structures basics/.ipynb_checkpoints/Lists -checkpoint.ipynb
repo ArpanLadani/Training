{
 "cells": [
  {
   "cell_type": "code",
   "execution_count": 1,
   "id": "47177855",
   "metadata": {},
   "outputs": [],
   "source": [
    "my_list = [1,2,3]"
   ]
  },
  {
   "cell_type": "code",
   "execution_count": 2,
   "id": "eedc0c47",
   "metadata": {},
   "outputs": [],
   "source": [
    "my_list = ['String',100,23.2]"
   ]
  },
  {
   "cell_type": "code",
   "execution_count": 3,
   "id": "dbfbb2c0",
   "metadata": {},
   "outputs": [
    {
     "data": {
      "text/plain": [
       "3"
      ]
     },
     "execution_count": 3,
     "metadata": {},
     "output_type": "execute_result"
    }
   ],
   "source": [
    "len(my_list)"
   ]
  },
  {
   "cell_type": "code",
   "execution_count": 4,
   "id": "4712bf8a",
   "metadata": {},
   "outputs": [
    {
     "data": {
      "text/plain": [
       "[100, 23.2]"
      ]
     },
     "execution_count": 4,
     "metadata": {},
     "output_type": "execute_result"
    }
   ],
   "source": [
    "my_list[1:]"
   ]
  },
  {
   "cell_type": "code",
   "execution_count": 5,
   "id": "ad20cac2",
   "metadata": {},
   "outputs": [
    {
     "ename": "NameError",
     "evalue": "name 'mylist' is not defined",
     "output_type": "error",
     "traceback": [
      "\u001b[1;31m---------------------------------------------------------------------------\u001b[0m",
      "\u001b[1;31mNameError\u001b[0m                                 Traceback (most recent call last)",
      "\u001b[1;32m~\\AppData\\Local\\Temp\\ipykernel_23664\\465557739.py\u001b[0m in \u001b[0;36m<module>\u001b[1;34m\u001b[0m\n\u001b[1;32m----> 1\u001b[1;33m \u001b[0mmylist\u001b[0m\u001b[1;33m[\u001b[0m\u001b[1;36m1\u001b[0m\u001b[1;33m,\u001b[0m\u001b[1;36m2\u001b[0m\u001b[1;33m,\u001b[0m\u001b[1;36m3\u001b[0m\u001b[1;33m,\u001b[0m\u001b[1;36m4\u001b[0m\u001b[1;33m,\u001b[0m\u001b[1;36m5\u001b[0m\u001b[1;33m,\u001b[0m\u001b[1;36m6\u001b[0m\u001b[1;33m]\u001b[0m\u001b[1;33m\u001b[0m\u001b[1;33m\u001b[0m\u001b[0m\n\u001b[0m",
      "\u001b[1;31mNameError\u001b[0m: name 'mylist' is not defined"
     ]
    }
   ],
   "source": [
    "mylist[1,2,3,4,5,6]"
   ]
  },
  {
   "cell_type": "code",
   "execution_count": 6,
   "id": "341c14da",
   "metadata": {},
   "outputs": [],
   "source": [
    "mylist = [1,2,3,4,4,3]"
   ]
  },
  {
   "cell_type": "code",
   "execution_count": 7,
   "id": "a48ba14f",
   "metadata": {},
   "outputs": [
    {
     "data": {
      "text/plain": [
       "[1, 2, 3, 4, 4, 3, 'String', 100, 23.2]"
      ]
     },
     "execution_count": 7,
     "metadata": {},
     "output_type": "execute_result"
    }
   ],
   "source": [
    "mylist + my_list"
   ]
  },
  {
   "cell_type": "code",
   "execution_count": 8,
   "id": "7b4630ba",
   "metadata": {},
   "outputs": [],
   "source": [
    "my_list[0] = 'Arpan'"
   ]
  },
  {
   "cell_type": "code",
   "execution_count": 9,
   "id": "2b12a94a",
   "metadata": {},
   "outputs": [
    {
     "data": {
      "text/plain": [
       "['Arpan', 100, 23.2]"
      ]
     },
     "execution_count": 9,
     "metadata": {},
     "output_type": "execute_result"
    }
   ],
   "source": [
    "my_list"
   ]
  },
  {
   "cell_type": "code",
   "execution_count": 10,
   "id": "5fe82367",
   "metadata": {},
   "outputs": [],
   "source": [
    "my_list.append(67)"
   ]
  },
  {
   "cell_type": "code",
   "execution_count": 11,
   "id": "0f74dc26",
   "metadata": {},
   "outputs": [
    {
     "data": {
      "text/plain": [
       "['Arpan', 100, 23.2, 67]"
      ]
     },
     "execution_count": 11,
     "metadata": {},
     "output_type": "execute_result"
    }
   ],
   "source": [
    "my_list"
   ]
  },
  {
   "cell_type": "code",
   "execution_count": 12,
   "id": "2fb1c813",
   "metadata": {},
   "outputs": [
    {
     "data": {
      "text/plain": [
       "<function list.pop(index=-1, /)>"
      ]
     },
     "execution_count": 12,
     "metadata": {},
     "output_type": "execute_result"
    }
   ],
   "source": [
    "my_list.pop"
   ]
  },
  {
   "cell_type": "code",
   "execution_count": 13,
   "id": "44e27fbf",
   "metadata": {},
   "outputs": [
    {
     "data": {
      "text/plain": [
       "67"
      ]
     },
     "execution_count": 13,
     "metadata": {},
     "output_type": "execute_result"
    }
   ],
   "source": [
    "my_list.pop()"
   ]
  },
  {
   "cell_type": "code",
   "execution_count": 14,
   "id": "b9e7443b",
   "metadata": {},
   "outputs": [],
   "source": [
    "popped_item = my_list.pop()"
   ]
  },
  {
   "cell_type": "code",
   "execution_count": 15,
   "id": "9d1f0c11",
   "metadata": {},
   "outputs": [
    {
     "data": {
      "text/plain": [
       "23.2"
      ]
     },
     "execution_count": 15,
     "metadata": {},
     "output_type": "execute_result"
    }
   ],
   "source": [
    "popped_item"
   ]
  },
  {
   "cell_type": "code",
   "execution_count": 16,
   "id": "6fb5a251",
   "metadata": {},
   "outputs": [],
   "source": [
    "new_list = ['a','c','x','d','b']\n",
    "nmu_list = [4,2,67,43,45,98]"
   ]
  },
  {
   "cell_type": "code",
   "execution_count": 17,
   "id": "b34dba1b",
   "metadata": {},
   "outputs": [],
   "source": [
    "new_list.sort()"
   ]
  },
  {
   "cell_type": "code",
   "execution_count": 18,
   "id": "49d4b8e9",
   "metadata": {},
   "outputs": [
    {
     "data": {
      "text/plain": [
       "['a', 'b', 'c', 'd', 'x']"
      ]
     },
     "execution_count": 18,
     "metadata": {},
     "output_type": "execute_result"
    }
   ],
   "source": [
    "new_list"
   ]
  },
  {
   "cell_type": "code",
   "execution_count": 19,
   "id": "a8174c3a",
   "metadata": {},
   "outputs": [],
   "source": [
    "new_list.sort()\n",
    "my_sorted_list = new_list"
   ]
  },
  {
   "cell_type": "code",
   "execution_count": 20,
   "id": "5731f1c0",
   "metadata": {},
   "outputs": [
    {
     "data": {
      "text/plain": [
       "['a', 'b', 'c', 'd', 'x']"
      ]
     },
     "execution_count": 20,
     "metadata": {},
     "output_type": "execute_result"
    }
   ],
   "source": [
    "my_sorted_list"
   ]
  },
  {
   "cell_type": "code",
   "execution_count": 21,
   "id": "ba3edaa3",
   "metadata": {},
   "outputs": [],
   "source": [
    "my_sorted_list.reverse()"
   ]
  },
  {
   "cell_type": "code",
   "execution_count": 22,
   "id": "aeb8f30c",
   "metadata": {},
   "outputs": [
    {
     "data": {
      "text/plain": [
       "['x', 'd', 'c', 'b', 'a']"
      ]
     },
     "execution_count": 22,
     "metadata": {},
     "output_type": "execute_result"
    }
   ],
   "source": [
    "my_sorted_list"
   ]
  },
  {
   "cell_type": "code",
   "execution_count": null,
   "id": "e11d470c",
   "metadata": {},
   "outputs": [],
   "source": []
  }
 ],
 "metadata": {
  "kernelspec": {
   "display_name": "Python 3 (ipykernel)",
   "language": "python",
   "name": "python3"
  },
  "language_info": {
   "codemirror_mode": {
    "name": "ipython",
    "version": 3
   },
   "file_extension": ".py",
   "mimetype": "text/x-python",
   "name": "python",
   "nbconvert_exporter": "python",
   "pygments_lexer": "ipython3",
   "version": "3.9.13"
  }
 },
 "nbformat": 4,
 "nbformat_minor": 5
}
