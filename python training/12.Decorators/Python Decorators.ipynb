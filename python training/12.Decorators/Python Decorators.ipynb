{
 "cells": [
  {
   "cell_type": "markdown",
   "id": "c0b29edb",
   "metadata": {},
   "source": [
    "***Imagine we created a function:\n",
    "    def simple_func():\n",
    "        #do simple stuff\n",
    "        return something\n",
    "        \n",
    "***now, we want to add some new capabilities to fucntion:\n",
    "    def simple_func():\n",
    "        #want to do more stuff\n",
    "        #do simple stuff\n",
    "        return something\n",
    "        \n",
    "***We have 2 ways for doing this:\n",
    "1.Add extra code to old function - Due to this we can not call original function.\n",
    "2.Create a new function that contains old code and then add new code to that.\n",
    "\n",
    "***What if we wanted to delete the new functionality added once we used it.So there should be on off switch for it.\n",
    "\n",
    "\n",
    "\n"
   ]
  },
  {
   "cell_type": "markdown",
   "id": "47cdba88",
   "metadata": {},
   "source": [
    "### So to solve this problem python has decorators that allows us to tack on extra fucntionality to an already existing function.\n",
    "### They use the @ operator and are then placed on top of the original function.\n",
    " @some_decorator\n",
    " def simple_func():\n",
    "     #do stuff\n",
    "     return something"
   ]
  },
  {
   "cell_type": "code",
   "execution_count": 1,
   "id": "8714eaa5",
   "metadata": {},
   "outputs": [],
   "source": [
    "def func():\n",
    "    return 1"
   ]
  },
  {
   "cell_type": "code",
   "execution_count": 2,
   "id": "bfadfec6",
   "metadata": {},
   "outputs": [
    {
     "data": {
      "text/plain": [
       "1"
      ]
     },
     "execution_count": 2,
     "metadata": {},
     "output_type": "execute_result"
    }
   ],
   "source": [
    "func()"
   ]
  },
  {
   "cell_type": "code",
   "execution_count": 3,
   "id": "49b07d4f",
   "metadata": {},
   "outputs": [],
   "source": [
    "greet = func"
   ]
  },
  {
   "cell_type": "code",
   "execution_count": 4,
   "id": "87feccfa",
   "metadata": {},
   "outputs": [
    {
     "data": {
      "text/plain": [
       "1"
      ]
     },
     "execution_count": 4,
     "metadata": {},
     "output_type": "execute_result"
    }
   ],
   "source": [
    "greet()"
   ]
  },
  {
   "cell_type": "code",
   "execution_count": 5,
   "id": "9fead425",
   "metadata": {},
   "outputs": [],
   "source": [
    "del func\n"
   ]
  },
  {
   "cell_type": "code",
   "execution_count": 6,
   "id": "7158f06e",
   "metadata": {},
   "outputs": [
    {
     "ename": "NameError",
     "evalue": "name 'func' is not defined",
     "output_type": "error",
     "traceback": [
      "\u001b[1;31m---------------------------------------------------------------------------\u001b[0m",
      "\u001b[1;31mNameError\u001b[0m                                 Traceback (most recent call last)",
      "\u001b[1;32m~\\AppData\\Local\\Temp\\ipykernel_34452\\2078144611.py\u001b[0m in \u001b[0;36m<module>\u001b[1;34m\u001b[0m\n\u001b[1;32m----> 1\u001b[1;33m \u001b[0mfunc\u001b[0m\u001b[1;33m(\u001b[0m\u001b[1;33m)\u001b[0m\u001b[1;33m\u001b[0m\u001b[1;33m\u001b[0m\u001b[0m\n\u001b[0m",
      "\u001b[1;31mNameError\u001b[0m: name 'func' is not defined"
     ]
    }
   ],
   "source": [
    "func()"
   ]
  },
  {
   "cell_type": "code",
   "execution_count": 7,
   "id": "ea8f875b",
   "metadata": {},
   "outputs": [
    {
     "data": {
      "text/plain": [
       "1"
      ]
     },
     "execution_count": 7,
     "metadata": {},
     "output_type": "execute_result"
    }
   ],
   "source": [
    "greet()"
   ]
  },
  {
   "cell_type": "markdown",
   "id": "a2490e1a",
   "metadata": {},
   "source": [
    "Here we can see that function are objects that can be passed to other objects\n",
    "As func is deleted but the greet still points to the original function."
   ]
  },
  {
   "cell_type": "code",
   "execution_count": 8,
   "id": "31c7b9b8",
   "metadata": {},
   "outputs": [],
   "source": [
    "def hello(name='Jose'):\n",
    "    print(\"hello has been executed\")"
   ]
  },
  {
   "cell_type": "code",
   "execution_count": 9,
   "id": "60216acb",
   "metadata": {},
   "outputs": [
    {
     "name": "stdout",
     "output_type": "stream",
     "text": [
      "hello has been executed\n"
     ]
    }
   ],
   "source": [
    "hello()"
   ]
  },
  {
   "cell_type": "code",
   "execution_count": 16,
   "id": "66215ee4",
   "metadata": {},
   "outputs": [],
   "source": [
    "def hello(name='Jose'):\n",
    "    print(\"hello has been executed\")\n",
    "    \n",
    "    def greet():\n",
    "        return '\\t this is greet func inside hello'\n",
    "    \n",
    "    def welcome():\n",
    "        return '\\t this is welcome inside hello'\n",
    "    \n",
    "    print(greet())\n",
    "    print(welcome())\n",
    "    print('end of hello fucntion')"
   ]
  },
  {
   "cell_type": "code",
   "execution_count": 17,
   "id": "fd6655ed",
   "metadata": {},
   "outputs": [
    {
     "name": "stdout",
     "output_type": "stream",
     "text": [
      "hello has been executed\n",
      "\t this is greet func inside hello\n",
      "\t this is welcome inside hello\n",
      "end of hello fucntion\n"
     ]
    }
   ],
   "source": [
    "hello()"
   ]
  },
  {
   "cell_type": "markdown",
   "id": "57c530b7",
   "metadata": {},
   "source": [
    "#### Here we can see that scope of greet and welcome is limited to hello."
   ]
  },
  {
   "cell_type": "markdown",
   "id": "f986f588",
   "metadata": {},
   "source": [
    "#### We can do this in following way."
   ]
  },
  {
   "cell_type": "code",
   "execution_count": 19,
   "id": "02a885c9",
   "metadata": {},
   "outputs": [],
   "source": [
    "def hello(name='Jose'):\n",
    "    print(\"hello has been executed\")\n",
    "    \n",
    "    def greet():\n",
    "        return '\\t this is greet func inside hello'\n",
    "    \n",
    "    def welcome():\n",
    "        return '\\t this is welcome inside hello'\n",
    "    \n",
    "    print(\"I am goin to return a fucntion\")\n",
    "    if name == 'Jose':\n",
    "        return greet\n",
    "    else:\n",
    "        return welcome"
   ]
  },
  {
   "cell_type": "code",
   "execution_count": 20,
   "id": "5414b7f9",
   "metadata": {},
   "outputs": [
    {
     "name": "stdout",
     "output_type": "stream",
     "text": [
      "hello has been executed\n",
      "I am goin to return a fucntion\n"
     ]
    }
   ],
   "source": [
    "my_new_func = hello('Jose')"
   ]
  },
  {
   "cell_type": "code",
   "execution_count": 21,
   "id": "8aafe518",
   "metadata": {},
   "outputs": [
    {
     "data": {
      "text/plain": [
       "'\\t this is welcome inside hello'"
      ]
     },
     "execution_count": 21,
     "metadata": {},
     "output_type": "execute_result"
    }
   ],
   "source": [
    "my_new_func()"
   ]
  },
  {
   "cell_type": "code",
   "execution_count": 22,
   "id": "b5c72e64",
   "metadata": {},
   "outputs": [
    {
     "name": "stdout",
     "output_type": "stream",
     "text": [
      "\t this is welcome inside hello\n"
     ]
    }
   ],
   "source": [
    "print(my_new_func())"
   ]
  },
  {
   "cell_type": "code",
   "execution_count": 26,
   "id": "21f8c5bf",
   "metadata": {},
   "outputs": [],
   "source": [
    "def cool():\n",
    "    def super_cool():\n",
    "        return ' iam very cool'\n",
    "    return super_cool"
   ]
  },
  {
   "cell_type": "code",
   "execution_count": 27,
   "id": "e617f34c",
   "metadata": {},
   "outputs": [],
   "source": [
    "some_func = cool()\n"
   ]
  },
  {
   "cell_type": "code",
   "execution_count": 28,
   "id": "5bbcfdda",
   "metadata": {},
   "outputs": [
    {
     "data": {
      "text/plain": [
       "' iam very cool'"
      ]
     },
     "execution_count": 28,
     "metadata": {},
     "output_type": "execute_result"
    }
   ],
   "source": [
    "some_func()"
   ]
  },
  {
   "cell_type": "code",
   "execution_count": 29,
   "id": "837f80b0",
   "metadata": {},
   "outputs": [],
   "source": [
    "def hello():\n",
    "    return 'hi jose'"
   ]
  },
  {
   "cell_type": "code",
   "execution_count": 32,
   "id": "254d3723",
   "metadata": {},
   "outputs": [],
   "source": [
    "def other(some_def_func):\n",
    "    print('Other code runs here')\n",
    "    print(some_def_func())"
   ]
  },
  {
   "cell_type": "code",
   "execution_count": 33,
   "id": "8345cdd0",
   "metadata": {},
   "outputs": [
    {
     "name": "stdout",
     "output_type": "stream",
     "text": [
      "Other code runs here\n",
      "hi jose\n"
     ]
    }
   ],
   "source": [
    "other(hello)"
   ]
  },
  {
   "cell_type": "code",
   "execution_count": 34,
   "id": "7fe05ae5",
   "metadata": {},
   "outputs": [],
   "source": [
    "def other(some_def_func):\n",
    "    print('Other code runs here')\n",
    "    return some_def_func()"
   ]
  },
  {
   "cell_type": "code",
   "execution_count": 35,
   "id": "bb2c1a60",
   "metadata": {},
   "outputs": [
    {
     "name": "stdout",
     "output_type": "stream",
     "text": [
      "Other code runs here\n"
     ]
    },
    {
     "data": {
      "text/plain": [
       "'hi jose'"
      ]
     },
     "execution_count": 35,
     "metadata": {},
     "output_type": "execute_result"
    }
   ],
   "source": [
    "other(hello)"
   ]
  },
  {
   "cell_type": "code",
   "execution_count": null,
   "id": "1f1ae845",
   "metadata": {},
   "outputs": [],
   "source": []
  },
  {
   "cell_type": "code",
   "execution_count": null,
   "id": "5bb7a411",
   "metadata": {},
   "outputs": [],
   "source": []
  },
  {
   "cell_type": "code",
   "execution_count": null,
   "id": "59cabd6e",
   "metadata": {},
   "outputs": [],
   "source": []
  },
  {
   "cell_type": "markdown",
   "id": "98abf4e4",
   "metadata": {},
   "source": [
    "### Adding extra code with some complication."
   ]
  },
  {
   "cell_type": "code",
   "execution_count": 49,
   "id": "e599d012",
   "metadata": {},
   "outputs": [],
   "source": [
    "def new_decorator(original_func):\n",
    "    def wrap_func():\n",
    "        print('Sme extra code before the original function')\n",
    "        \n",
    "        original_func()\n",
    "        \n",
    "        print('some extra code after original function')\n",
    "        \n",
    "    return wrap_func"
   ]
  },
  {
   "cell_type": "code",
   "execution_count": 50,
   "id": "c7d2322a",
   "metadata": {},
   "outputs": [],
   "source": [
    "def func_needs_decorator():\n",
    "    print('I want to be decorated')\n",
    "    "
   ]
  },
  {
   "cell_type": "code",
   "execution_count": 51,
   "id": "b881f8eb",
   "metadata": {},
   "outputs": [
    {
     "name": "stdout",
     "output_type": "stream",
     "text": [
      "I want to be decorated\n"
     ]
    }
   ],
   "source": [
    "func_needs_decorator()"
   ]
  },
  {
   "cell_type": "code",
   "execution_count": 52,
   "id": "c44d2ff4",
   "metadata": {},
   "outputs": [],
   "source": [
    "decorated_func = new_decorator(func_needs_decorator)"
   ]
  },
  {
   "cell_type": "code",
   "execution_count": 53,
   "id": "b5ca427c",
   "metadata": {},
   "outputs": [
    {
     "name": "stdout",
     "output_type": "stream",
     "text": [
      "Sme extra code before the original function\n",
      "I want to be decorated\n",
      "some extra code after original function\n"
     ]
    }
   ],
   "source": [
    "decorated_func()\n"
   ]
  },
  {
   "cell_type": "markdown",
   "id": "2f754251",
   "metadata": {},
   "source": [
    "### We have special syntax for the above process."
   ]
  },
  {
   "cell_type": "code",
   "execution_count": 54,
   "id": "316e94fa",
   "metadata": {},
   "outputs": [],
   "source": [
    "@new_decorator\n",
    "def func_needs_decorator():\n",
    "    print('I want to be decorated')"
   ]
  },
  {
   "cell_type": "code",
   "execution_count": 55,
   "id": "32813aaf",
   "metadata": {},
   "outputs": [
    {
     "name": "stdout",
     "output_type": "stream",
     "text": [
      "Sme extra code before the original function\n",
      "I want to be decorated\n",
      "some extra code after original function\n"
     ]
    }
   ],
   "source": [
    "func_needs_decorator()"
   ]
  },
  {
   "cell_type": "code",
   "execution_count": null,
   "id": "767aaedf",
   "metadata": {},
   "outputs": [],
   "source": []
  },
  {
   "cell_type": "code",
   "execution_count": null,
   "id": "d54546b6",
   "metadata": {},
   "outputs": [],
   "source": []
  }
 ],
 "metadata": {
  "kernelspec": {
   "display_name": "Python 3 (ipykernel)",
   "language": "python",
   "name": "python3"
  },
  "language_info": {
   "codemirror_mode": {
    "name": "ipython",
    "version": 3
   },
   "file_extension": ".py",
   "mimetype": "text/x-python",
   "name": "python",
   "nbconvert_exporter": "python",
   "pygments_lexer": "ipython3",
   "version": "3.9.13"
  }
 },
 "nbformat": 4,
 "nbformat_minor": 5
}
