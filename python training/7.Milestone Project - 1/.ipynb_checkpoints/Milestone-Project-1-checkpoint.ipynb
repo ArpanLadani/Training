{
 "cells": [
  {
   "cell_type": "markdown",
   "id": "65e020fe",
   "metadata": {},
   "source": [
    "### To display the board."
   ]
  },
  {
   "cell_type": "code",
   "execution_count": 7,
   "id": "75a9b954",
   "metadata": {},
   "outputs": [],
   "source": [
    "from IPython.display import clear_output\n",
    "\n",
    "def display_board(board):\n",
    "    \n",
    "    print(' ' + board[7] + '|' + board[8] + '|' + board[9])\n",
    "    print('-------')\n",
    "    print(' ' + board[4] + '|' + board[5] + '|' + board[6])\n",
    "    print('-------')\n",
    "    print(' ' + board[1] + '|' + board[2] + '|' + board[3])"
   ]
  },
  {
   "cell_type": "code",
   "execution_count": 8,
   "id": "3ca14361",
   "metadata": {},
   "outputs": [
    {
     "name": "stdout",
     "output_type": "stream",
     "text": [
      " X|O|X\n",
      "-------\n",
      " O|X|O\n",
      "-------\n",
      " X|O|X\n"
     ]
    }
   ],
   "source": [
    "test_board = ['#','X','O','X','O','X','O','X','O','X']\n",
    "display_board(test_board)"
   ]
  },
  {
   "cell_type": "markdown",
   "id": "09a90973",
   "metadata": {},
   "source": [
    "### To take input from the player whether he/she wants 'X' or 'O'."
   ]
  },
  {
   "cell_type": "code",
   "execution_count": 15,
   "id": "136ed72a",
   "metadata": {},
   "outputs": [],
   "source": [
    "def player_input():\n",
    "    marker = ''\n",
    "    while not (marker == 'X' or marker == 'O'):\n",
    "        marker = input('Player 1: What do you want to be X or O: ').upper()\n",
    "\n",
    "    if marker == 'X':\n",
    "        return ('X','O')#It means if player player 1 is X then player 2 is O\n",
    "    else:\n",
    "        return ('O','X')#It means if player player 1 is O then player 2 is X"
   ]
  },
  {
   "cell_type": "code",
   "execution_count": 16,
   "id": "4238d1cc",
   "metadata": {},
   "outputs": [
    {
     "name": "stdout",
     "output_type": "stream",
     "text": [
      "Player 1: What do you want to be X or O: wrong answer\n",
      "Player 1: What do you want to be X or O: x\n"
     ]
    },
    {
     "data": {
      "text/plain": [
       "('X', 'O')"
      ]
     },
     "execution_count": 16,
     "metadata": {},
     "output_type": "execute_result"
    }
   ],
   "source": [
    "player_input()"
   ]
  },
  {
   "cell_type": "markdown",
   "id": "ea86ba5a",
   "metadata": {},
   "source": [
    "### This is done to assign a board position to a marker."
   ]
  },
  {
   "cell_type": "code",
   "execution_count": 17,
   "id": "16683dd0",
   "metadata": {},
   "outputs": [],
   "source": [
    "\n",
    "def place_marker(board, marker, position):\n",
    "    board[position] = marker"
   ]
  },
  {
   "cell_type": "code",
   "execution_count": 20,
   "id": "b0be219c",
   "metadata": {},
   "outputs": [
    {
     "name": "stdout",
     "output_type": "stream",
     "text": [
      " X|#|X\n",
      "-------\n",
      " O|X|O\n",
      "-------\n",
      " X|O|X\n"
     ]
    }
   ],
   "source": [
    "place_marker(test_board,'#',8)\n",
    "display_board(test_board)"
   ]
  },
  {
   "cell_type": "markdown",
   "id": "0c6f78c6",
   "metadata": {},
   "source": [
    "### To check the win."
   ]
  },
  {
   "cell_type": "code",
   "execution_count": 28,
   "id": "a4651294",
   "metadata": {},
   "outputs": [],
   "source": [
    "def win_check(board, mark):\n",
    "    if (board[7] == mark and board[8] == mark and board[9] == mark):\n",
    "        return True # Top Horizontal\n",
    "    elif (board[1] == mark and board[2] == mark and board[3] == mark):\n",
    "        return True # Middle Horizontal\n",
    "    elif (board[4] == mark and board[5] == mark and board[6] == mark):\n",
    "        return True # Bottom Horizontal\n",
    "    elif (board[1] == mark and board[4] == mark and board[7] == mark):\n",
    "        return True # Left Vertical\n",
    "    elif (board[2] == mark and board[5] == mark and board[8] == mark):\n",
    "        return True # Middle Vertical\n",
    "    elif (board[3] == mark and board[6] == mark and board[9] == mark):\n",
    "        return True # Right Vertical\n",
    "    elif (board[1] == mark and board[5] == mark and board[9] == mark):\n",
    "        return True # Diagonal\n",
    "    elif (board[3] == mark and board[5] == mark and board[7] == mark):\n",
    "        return True # Diagonal\n",
    "    else:\n",
    "        return False\n",
    "    \n"
   ]
  },
  {
   "cell_type": "markdown",
   "id": "b5aeeee0",
   "metadata": {},
   "source": [
    "### In above we can use direct return also as this all return directly a boolean. But for better understanding adn representation using if-elif-else."
   ]
  },
  {
   "cell_type": "code",
   "execution_count": 29,
   "id": "5403a8f6",
   "metadata": {},
   "outputs": [
    {
     "data": {
      "text/plain": [
       "True"
      ]
     },
     "execution_count": 29,
     "metadata": {},
     "output_type": "execute_result"
    }
   ],
   "source": [
    "win_check(test_board,'X')"
   ]
  },
  {
   "cell_type": "code",
   "execution_count": 30,
   "id": "fad99f30",
   "metadata": {},
   "outputs": [
    {
     "data": {
      "text/plain": [
       "False"
      ]
     },
     "execution_count": 30,
     "metadata": {},
     "output_type": "execute_result"
    }
   ],
   "source": [
    "win_check(test_board,'O')"
   ]
  },
  {
   "cell_type": "code",
   "execution_count": 31,
   "id": "ba6749f9",
   "metadata": {},
   "outputs": [
    {
     "name": "stdout",
     "output_type": "stream",
     "text": [
      " X|#|X\n",
      "-------\n",
      " O|X|O\n",
      "-------\n",
      " X|O|X\n"
     ]
    }
   ],
   "source": [
    "display_board(test_board)"
   ]
  },
  {
   "cell_type": "markdown",
   "id": "8e42e73c",
   "metadata": {},
   "source": [
    "### It will randomly choose the player that will go first by randint method."
   ]
  },
  {
   "cell_type": "code",
   "execution_count": 36,
   "id": "44ffcf87",
   "metadata": {},
   "outputs": [],
   "source": [
    "#It will randomly choose the player that will go first by randint method.\n",
    "import random\n",
    "\n",
    "def choose_first():\n",
    "    \n",
    "    if random.randint(0,1) == 0:\n",
    "        return 'Player 1'\n",
    "    else:\n",
    "        return 'Player 2'"
   ]
  },
  {
   "cell_type": "code",
   "execution_count": 37,
   "id": "e62733b6",
   "metadata": {},
   "outputs": [
    {
     "data": {
      "text/plain": [
       "'Player 2'"
      ]
     },
     "execution_count": 37,
     "metadata": {},
     "output_type": "execute_result"
    }
   ],
   "source": [
    "choose_first()"
   ]
  },
  {
   "cell_type": "code",
   "execution_count": 38,
   "id": "a57c1b16",
   "metadata": {},
   "outputs": [
    {
     "data": {
      "text/plain": [
       "'Player 1'"
      ]
     },
     "execution_count": 38,
     "metadata": {},
     "output_type": "execute_result"
    }
   ],
   "source": [
    "choose_first()"
   ]
  },
  {
   "cell_type": "markdown",
   "id": "273969fc",
   "metadata": {},
   "source": [
    "### To check if their is space in the board in particular position."
   ]
  },
  {
   "cell_type": "code",
   "execution_count": 73,
   "id": "9be8b920",
   "metadata": {},
   "outputs": [],
   "source": [
    "def space_check(board, position):\n",
    "    \n",
    "    return board[position] == ' '"
   ]
  },
  {
   "cell_type": "code",
   "execution_count": 74,
   "id": "7fe54c79",
   "metadata": {},
   "outputs": [
    {
     "data": {
      "text/plain": [
       "False"
      ]
     },
     "execution_count": 74,
     "metadata": {},
     "output_type": "execute_result"
    }
   ],
   "source": [
    "space_check(test_board,8)"
   ]
  },
  {
   "cell_type": "markdown",
   "id": "6b230ca2",
   "metadata": {},
   "source": [
    "### To check if their is space in the full board.\n"
   ]
  },
  {
   "cell_type": "code",
   "execution_count": 75,
   "id": "ff4f9434",
   "metadata": {},
   "outputs": [],
   "source": [
    "def full_board_check(board):\n",
    "    for i in range(1,10): #This will iterate through the whole board.\n",
    "        if space_check(board, i):\n",
    "            return False\n",
    "    return True"
   ]
  },
  {
   "cell_type": "code",
   "execution_count": 76,
   "id": "c43c4fc2",
   "metadata": {},
   "outputs": [
    {
     "data": {
      "text/plain": [
       "True"
      ]
     },
     "execution_count": 76,
     "metadata": {},
     "output_type": "execute_result"
    }
   ],
   "source": [
    "full_board_check(test_board)"
   ]
  },
  {
   "cell_type": "markdown",
   "id": "e1ca8bae",
   "metadata": {},
   "source": [
    "### Write a function that asks for a player's next position (as a number 1-9) and then uses the function from step 6 to check if it's a free position. If it is, then return the position for later use."
   ]
  },
  {
   "cell_type": "code",
   "execution_count": 77,
   "id": "f9fd452d",
   "metadata": {},
   "outputs": [],
   "source": [
    "def player_choice(board):\n",
    "    position = 0\n",
    "    #checking if the position not in 1,2,3,4,5,6,7,8,9 then loop will stop and if the board is full then loop will stop otherwise it will work.\n",
    "    while position not in [1,2,3,4,5,6,7,8,9] or not space_check(board, position):\n",
    "        position = int(input(f'{turn} Choose your next position: (1-9) '))\n",
    "    \n",
    "    return position"
   ]
  },
  {
   "cell_type": "markdown",
   "id": "d8b1c183",
   "metadata": {},
   "source": [
    "### Write a function that asks the player if they want to play again and returns a boolean True if they do want to play again."
   ]
  },
  {
   "cell_type": "code",
   "execution_count": 78,
   "id": "63dfa37a",
   "metadata": {},
   "outputs": [],
   "source": [
    "def replay():\n",
    "    #.startswith is used when there is yes no situation means here if player chooses yes then only it will start a new game.\n",
    "    return input('Do you want to play again? Enter Yes or No: ').lower().startswith('y')"
   ]
  },
  {
   "cell_type": "markdown",
   "id": "8402205b",
   "metadata": {},
   "source": [
    "### Main part, we wil use all the functions that we have built to form a game."
   ]
  },
  {
   "cell_type": "code",
   "execution_count": 79,
   "id": "c1c15bb6",
   "metadata": {},
   "outputs": [
    {
     "name": "stdout",
     "output_type": "stream",
     "text": [
      "Welcome to Tic Tac Toe!\n",
      "Player 1: What do you want to be X or O: x\n",
      "Player 2 will go first.\n",
      "Are you ready to play? Enter Yes or No.y\n",
      "  | | \n",
      "-------\n",
      "  | | \n",
      "-------\n",
      "  | | \n",
      "Player 2 Choose your next position: (1-9) 1\n",
      "  | | \n",
      "-------\n",
      "  | | \n",
      "-------\n",
      " O| | \n",
      "Player 1 Choose your next position: (1-9) 2\n",
      "  | | \n",
      "-------\n",
      "  | | \n",
      "-------\n",
      " O|X| \n",
      "Player 2 Choose your next position: (1-9) 2\n",
      "Player 2 Choose your next position: (1-9) 3\n",
      "  | | \n",
      "-------\n",
      "  | | \n",
      "-------\n",
      " O|X|O\n",
      "Player 1 Choose your next position: (1-9) 4\n",
      "  | | \n",
      "-------\n",
      " X| | \n",
      "-------\n",
      " O|X|O\n",
      "Player 2 Choose your next position: (1-9) 5\n",
      "  | | \n",
      "-------\n",
      " X|O| \n",
      "-------\n",
      " O|X|O\n",
      "Player 1 Choose your next position: (1-9) 6\n",
      "  | | \n",
      "-------\n",
      " X|O|X\n",
      "-------\n",
      " O|X|O\n",
      "Player 2 Choose your next position: (1-9) 7\n",
      " O| | \n",
      "-------\n",
      " X|O|X\n",
      "-------\n",
      " O|X|O\n",
      "Player 2 has won!\n",
      "Do you want to play again? Enter Yes or No: no\n"
     ]
    }
   ],
   "source": [
    "print('Welcome to Tic Tac Toe!')\n",
    "\n",
    "while True:\n",
    "    theBoard = [' '] * 10 # Reseting the board.\n",
    "    player1_marker, player2_marker = player_input() # taking input of which marker will be of player 1 and player 2 respectively.\n",
    "    turn = choose_first() # Choosing randomly whose turn will be first.\n",
    "    print(turn + ' will go first.')\n",
    "    \n",
    "    play_game = input('Are you ready to play? Enter Yes or No.') \n",
    "    # CHecking if players are ready to play the game if yes continue otherwise no.\n",
    "    if play_game.lower()[0] == 'y':\n",
    "        game_on = True\n",
    "    else:\n",
    "        game_on = False\n",
    "        \n",
    "    while game_on:\n",
    "        if turn == 'Player 1':\n",
    "            # Player1's turn.\n",
    "\n",
    "            display_board(theBoard) # displaying the board\n",
    "            position = player_choice(theBoard) # Player will choose the position.\n",
    "            place_marker(theBoard, player1_marker, position) # to assign board position to player.\n",
    "            \n",
    "            if win_check(theBoard, player1_marker): #checking if the player has won or not\n",
    "                display_board(theBoard) #displaying full board.\n",
    "                print('Congratulations! You have won the game!')\n",
    "                game_on = False #if player has won then by this iteration will stop as it will go out of loop as gameon is false.\n",
    "            else:\n",
    "                if full_board_check(theBoard): #checking if board is full then and no one has won then the match is draw.\n",
    "                    display_board(theBoard) #displaying the ful board.\n",
    "                    print('The game is a draw!')\n",
    "                    break \n",
    "                else: #if the board not full then the player 2 turn will be there.\n",
    "                    turn = 'Player 2'\n",
    "                    \n",
    "        else:\n",
    "            # Player2's turn.\n",
    "            # Similar to player 1\n",
    "            display_board(theBoard)\n",
    "            position = player_choice(theBoard)\n",
    "            place_marker(theBoard, player2_marker, position)\n",
    "\n",
    "            if win_check(theBoard, player2_marker):\n",
    "                display_board(theBoard)\n",
    "                print('Player 2 has won!')\n",
    "                game_on = False\n",
    "            else:\n",
    "                if full_board_check(theBoard):\n",
    "                    display_board(theBoard)\n",
    "                    print('The game is a draw!')\n",
    "                    break\n",
    "                else: # if the board is not full then player 1 turn will be there again.\n",
    "                    turn = 'Player 1'\n",
    "                    \n",
    "    if not replay(): # if the player press no in the function replay the loop will break.\n",
    "        break"
   ]
  },
  {
   "cell_type": "code",
   "execution_count": null,
   "id": "a3304697",
   "metadata": {},
   "outputs": [],
   "source": []
  }
 ],
 "metadata": {
  "kernelspec": {
   "display_name": "Python 3 (ipykernel)",
   "language": "python",
   "name": "python3"
  },
  "language_info": {
   "codemirror_mode": {
    "name": "ipython",
    "version": 3
   },
   "file_extension": ".py",
   "mimetype": "text/x-python",
   "name": "python",
   "nbconvert_exporter": "python",
   "pygments_lexer": "ipython3",
   "version": "3.9.13"
  }
 },
 "nbformat": 4,
 "nbformat_minor": 5
}
