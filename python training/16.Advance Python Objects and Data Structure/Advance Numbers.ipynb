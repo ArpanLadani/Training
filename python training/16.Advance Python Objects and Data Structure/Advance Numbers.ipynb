{
 "cells": [
  {
   "cell_type": "markdown",
   "id": "0ab38bb3",
   "metadata": {},
   "source": [
    "### Advanced Numbers"
   ]
  },
  {
   "cell_type": "markdown",
   "id": "2e6a2a33",
   "metadata": {},
   "source": [
    "#### To convert a number to hexadecimal "
   ]
  },
  {
   "cell_type": "code",
   "execution_count": 1,
   "id": "c6d0acbb",
   "metadata": {},
   "outputs": [
    {
     "data": {
      "text/plain": [
       "'0xc'"
      ]
     },
     "execution_count": 1,
     "metadata": {},
     "output_type": "execute_result"
    }
   ],
   "source": [
    "hex(12)"
   ]
  },
  {
   "cell_type": "code",
   "execution_count": 4,
   "id": "5e71aad0",
   "metadata": {},
   "outputs": [
    {
     "data": {
      "text/plain": [
       "'0x144'"
      ]
     },
     "execution_count": 4,
     "metadata": {},
     "output_type": "execute_result"
    }
   ],
   "source": [
    "hex(324)"
   ]
  },
  {
   "cell_type": "markdown",
   "id": "aaadbb6d",
   "metadata": {},
   "source": [
    "#### To convert a number to binary"
   ]
  },
  {
   "cell_type": "code",
   "execution_count": 5,
   "id": "56de3947",
   "metadata": {},
   "outputs": [
    {
     "data": {
      "text/plain": [
       "'0b11010101'"
      ]
     },
     "execution_count": 5,
     "metadata": {},
     "output_type": "execute_result"
    }
   ],
   "source": [
    "bin(213)"
   ]
  },
  {
   "cell_type": "code",
   "execution_count": 6,
   "id": "fa6dafca",
   "metadata": {},
   "outputs": [
    {
     "data": {
      "text/plain": [
       "'0b10'"
      ]
     },
     "execution_count": 6,
     "metadata": {},
     "output_type": "execute_result"
    }
   ],
   "source": [
    "bin(2)"
   ]
  },
  {
   "cell_type": "markdown",
   "id": "e772bbff",
   "metadata": {},
   "source": [
    "#### To get power of a number"
   ]
  },
  {
   "cell_type": "code",
   "execution_count": 7,
   "id": "c2a811b8",
   "metadata": {},
   "outputs": [
    {
     "data": {
      "text/plain": [
       "16"
      ]
     },
     "execution_count": 7,
     "metadata": {},
     "output_type": "execute_result"
    }
   ],
   "source": [
    "2**4"
   ]
  },
  {
   "cell_type": "code",
   "execution_count": 8,
   "id": "ad7f1f46",
   "metadata": {},
   "outputs": [
    {
     "data": {
      "text/plain": [
       "16"
      ]
     },
     "execution_count": 8,
     "metadata": {},
     "output_type": "execute_result"
    }
   ],
   "source": [
    "pow(2,4)"
   ]
  },
  {
   "cell_type": "code",
   "execution_count": 9,
   "id": "bae3f790",
   "metadata": {},
   "outputs": [
    {
     "data": {
      "text/plain": [
       "1"
      ]
     },
     "execution_count": 9,
     "metadata": {},
     "output_type": "execute_result"
    }
   ],
   "source": [
    "pow(2,4,3) # third argument is treated as the mod."
   ]
  },
  {
   "cell_type": "code",
   "execution_count": 10,
   "id": "30701a91",
   "metadata": {},
   "outputs": [
    {
     "data": {
      "text/plain": [
       "3"
      ]
     },
     "execution_count": 10,
     "metadata": {},
     "output_type": "execute_result"
    }
   ],
   "source": [
    "abs(-3)"
   ]
  },
  {
   "cell_type": "code",
   "execution_count": 12,
   "id": "18c27ec2",
   "metadata": {},
   "outputs": [
    {
     "data": {
      "text/plain": [
       "3"
      ]
     },
     "execution_count": 12,
     "metadata": {},
     "output_type": "execute_result"
    }
   ],
   "source": [
    "round(3.1)"
   ]
  },
  {
   "cell_type": "code",
   "execution_count": 13,
   "id": "1e08dc23",
   "metadata": {},
   "outputs": [
    {
     "data": {
      "text/plain": [
       "4"
      ]
     },
     "execution_count": 13,
     "metadata": {},
     "output_type": "execute_result"
    }
   ],
   "source": [
    "round(3.9)"
   ]
  },
  {
   "cell_type": "code",
   "execution_count": 14,
   "id": "ca9595f6",
   "metadata": {},
   "outputs": [
    {
     "data": {
      "text/plain": [
       "3.321"
      ]
     },
     "execution_count": 14,
     "metadata": {},
     "output_type": "execute_result"
    }
   ],
   "source": [
    "round(3.321426472642,3)"
   ]
  },
  {
   "cell_type": "code",
   "execution_count": null,
   "id": "7ae1832f",
   "metadata": {},
   "outputs": [],
   "source": []
  }
 ],
 "metadata": {
  "kernelspec": {
   "display_name": "Python 3 (ipykernel)",
   "language": "python",
   "name": "python3"
  },
  "language_info": {
   "codemirror_mode": {
    "name": "ipython",
    "version": 3
   },
   "file_extension": ".py",
   "mimetype": "text/x-python",
   "name": "python",
   "nbconvert_exporter": "python",
   "pygments_lexer": "ipython3",
   "version": "3.9.13"
  }
 },
 "nbformat": 4,
 "nbformat_minor": 5
}
