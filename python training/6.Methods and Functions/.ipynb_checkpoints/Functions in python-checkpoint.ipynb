{
 "cells": [
  {
   "cell_type": "markdown",
   "id": "9f71dbd3",
   "metadata": {},
   "source": [
    "### Functions: It allows us to create blocks of code that can be easily executed many times,without needing to constantly rewrite the entire block of code.\n",
    "\n",
    "Syntax for function:\n",
    "def name_of_function():\n",
    "    '''\n",
    "    docstring explains function.\n",
    "    '''\n",
    "    print(\"hello\")\n",
    "  \n",
    "  \n",
    "Function can also have parameters.\n",
    "def name_of_function(name):\n",
    "    '''\n",
    "    docstring explains function.\n",
    "    '''\n",
    "    print(\"hello\" + name)\n",
    "    \n",
    "#### Typically we use return keyword to send back the result of function,instead of just printing. Return allows us to assign the output of function to a new variable.\n",
    "\n",
    "def add_func(num1,num2):\n",
    "    return num1+num2\n",
    "\n"
   ]
  },
  {
   "cell_type": "code",
   "execution_count": 4,
   "id": "d8d3eb64",
   "metadata": {},
   "outputs": [],
   "source": [
    "def name_function():\n",
    "    '''\n",
    "    DOCSTRING : information about function\n",
    "    INPUT: name\n",
    "    OUTPUT: HELLO\n",
    "    '''\n",
    "    print('hello')"
   ]
  },
  {
   "cell_type": "code",
   "execution_count": 7,
   "id": "8e5d236d",
   "metadata": {},
   "outputs": [
    {
     "name": "stdout",
     "output_type": "stream",
     "text": [
      "Help on function name_function in module __main__:\n",
      "\n",
      "name_function()\n",
      "    DOCSTRING : information about function\n",
      "    INPUT: name\n",
      "    OUTPUT: HELLO\n",
      "\n"
     ]
    }
   ],
   "source": [
    "help(name_function)"
   ]
  },
  {
   "cell_type": "code",
   "execution_count": 6,
   "id": "4a3f94c7",
   "metadata": {},
   "outputs": [
    {
     "name": "stdout",
     "output_type": "stream",
     "text": [
      "hello\n"
     ]
    }
   ],
   "source": [
    "name_function()"
   ]
  },
  {
   "cell_type": "code",
   "execution_count": 8,
   "id": "5cda8440",
   "metadata": {},
   "outputs": [],
   "source": [
    "def say_hello(name):\n",
    "    print('hello' + name)"
   ]
  },
  {
   "cell_type": "code",
   "execution_count": 10,
   "id": "9332fedf",
   "metadata": {},
   "outputs": [
    {
     "name": "stdout",
     "output_type": "stream",
     "text": [
      "helloarpan\n"
     ]
    }
   ],
   "source": [
    "say_hello('arpan')"
   ]
  },
  {
   "cell_type": "code",
   "execution_count": 11,
   "id": "f8092753",
   "metadata": {},
   "outputs": [],
   "source": [
    "def say_hello(name = 'Arpan'):\n",
    "    return 'hello' + name"
   ]
  },
  {
   "cell_type": "code",
   "execution_count": 16,
   "id": "8930b570",
   "metadata": {},
   "outputs": [
    {
     "name": "stdout",
     "output_type": "stream",
     "text": [
      "helloladani\n"
     ]
    }
   ],
   "source": [
    "result = say_hello('ladani')"
   ]
  },
  {
   "cell_type": "code",
   "execution_count": 18,
   "id": "19c35131",
   "metadata": {},
   "outputs": [],
   "source": [
    "result"
   ]
  },
  {
   "cell_type": "code",
   "execution_count": 19,
   "id": "153563f5",
   "metadata": {},
   "outputs": [],
   "source": [
    "def add(n1,n2):\n",
    "    return n1+n2"
   ]
  },
  {
   "cell_type": "code",
   "execution_count": 20,
   "id": "0cc70612",
   "metadata": {},
   "outputs": [],
   "source": [
    "result = add(20,30)"
   ]
  },
  {
   "cell_type": "code",
   "execution_count": 21,
   "id": "1fa70771",
   "metadata": {},
   "outputs": [
    {
     "data": {
      "text/plain": [
       "50"
      ]
     },
     "execution_count": 21,
     "metadata": {},
     "output_type": "execute_result"
    }
   ],
   "source": [
    "result"
   ]
  },
  {
   "cell_type": "code",
   "execution_count": 22,
   "id": "f7396b4d",
   "metadata": {},
   "outputs": [],
   "source": [
    "# Find out if the word \"dog\" is in a string?"
   ]
  },
  {
   "cell_type": "code",
   "execution_count": 28,
   "id": "253e4409",
   "metadata": {},
   "outputs": [],
   "source": [
    "def dog_check(s):\n",
    "    if 'dog' in s.lower():\n",
    "        return True\n",
    "    else:\n",
    "        return False"
   ]
  },
  {
   "cell_type": "code",
   "execution_count": 29,
   "id": "13c64ae0",
   "metadata": {},
   "outputs": [
    {
     "data": {
      "text/plain": [
       "True"
      ]
     },
     "execution_count": 29,
     "metadata": {},
     "output_type": "execute_result"
    }
   ],
   "source": [
    "dog_check('Dog ran away')"
   ]
  },
  {
   "cell_type": "code",
   "execution_count": 30,
   "id": "8f2105d1",
   "metadata": {},
   "outputs": [],
   "source": [
    "# Here as the statement is itself a boolean why should we use if else statement.\n",
    "def dog_check(s):\n",
    "    return 'dog' in s.lower()"
   ]
  },
  {
   "cell_type": "code",
   "execution_count": 33,
   "id": "47e2535e",
   "metadata": {},
   "outputs": [
    {
     "data": {
      "text/plain": [
       "True"
      ]
     },
     "execution_count": 33,
     "metadata": {},
     "output_type": "execute_result"
    }
   ],
   "source": [
    "dog_check('Dog ran away')"
   ]
  },
  {
   "cell_type": "markdown",
   "id": "79a5895c",
   "metadata": {},
   "source": [
    "#### PIG LATIN\n",
    "1. If word start with a vowel,add 'ay' to end\n",
    "2. If word does not start with a vowel, put first letter at the end, then add 'ay'\n",
    "3. word--> ordway\n",
    "4. apple--> appleay"
   ]
  },
  {
   "cell_type": "code",
   "execution_count": 34,
   "id": "401ef1df",
   "metadata": {},
   "outputs": [],
   "source": [
    "def pig_latin(word):\n",
    "    first_letter = word[0]\n",
    "    #check if vowel\n",
    "    if first_letter in 'aeiou':\n",
    "        pig_word = word + 'ay'\n",
    "    else:\n",
    "        pig_word = word[1:] + first_letter + 'ay'\n",
    "    return pig_word"
   ]
  },
  {
   "cell_type": "code",
   "execution_count": 35,
   "id": "ba91a739",
   "metadata": {},
   "outputs": [
    {
     "data": {
      "text/plain": [
       "'ordway'"
      ]
     },
     "execution_count": 35,
     "metadata": {},
     "output_type": "execute_result"
    }
   ],
   "source": [
    "pig_latin('word')"
   ]
  },
  {
   "cell_type": "code",
   "execution_count": 36,
   "id": "00e71b7a",
   "metadata": {},
   "outputs": [
    {
     "data": {
      "text/plain": [
       "'appleay'"
      ]
     },
     "execution_count": 36,
     "metadata": {},
     "output_type": "execute_result"
    }
   ],
   "source": [
    "pig_latin('apple')"
   ]
  },
  {
   "cell_type": "code",
   "execution_count": null,
   "id": "86a195ca",
   "metadata": {},
   "outputs": [],
   "source": []
  }
 ],
 "metadata": {
  "kernelspec": {
   "display_name": "Python 3 (ipykernel)",
   "language": "python",
   "name": "python3"
  },
  "language_info": {
   "codemirror_mode": {
    "name": "ipython",
    "version": 3
   },
   "file_extension": ".py",
   "mimetype": "text/x-python",
   "name": "python",
   "nbconvert_exporter": "python",
   "pygments_lexer": "ipython3",
   "version": "3.9.13"
  }
 },
 "nbformat": 4,
 "nbformat_minor": 5
}
