{
 "cells": [
  {
   "cell_type": "code",
   "execution_count": 1,
   "id": "86248d21",
   "metadata": {},
   "outputs": [],
   "source": [
    "x = 25\n",
    "def printer():\n",
    "    x = 50\n",
    "    return x"
   ]
  },
  {
   "cell_type": "code",
   "execution_count": 2,
   "id": "663fdb0a",
   "metadata": {},
   "outputs": [
    {
     "name": "stdout",
     "output_type": "stream",
     "text": [
      "25\n"
     ]
    }
   ],
   "source": [
    "print(x)"
   ]
  },
  {
   "cell_type": "code",
   "execution_count": 3,
   "id": "c9c5f711",
   "metadata": {},
   "outputs": [
    {
     "name": "stdout",
     "output_type": "stream",
     "text": [
      "50\n"
     ]
    }
   ],
   "source": [
    "print(printer())"
   ]
  },
  {
   "cell_type": "markdown",
   "id": "b29cadee",
   "metadata": {},
   "source": [
    "In above example we can see that if we directly run print(x) we get 25 and if we print the output of the fucntion we get 50."
   ]
  },
  {
   "cell_type": "markdown",
   "id": "ab57e72b",
   "metadata": {},
   "source": [
    "The above thing happens due to a concept of scope that allows python to have a \n",
    "set of rules to assign which variables referencing in code"
   ]
  },
  {
   "cell_type": "markdown",
   "id": "6551e89c",
   "metadata": {},
   "source": [
    "The rule are LEGB rule:\n",
    "\n",
    "    * L:Local - Names assigned in any way within a function(def or lambda),\n",
    "        and not declared global in that function.\n",
    "        \n",
    "    * E:Enclosing function locals - Names in the local scope of any and all \n",
    "        enclosing functions(def or lambda),from inner to outer.\n",
    "        \n",
    "    * G:Global(module) - Names assigned at the top-level of a modulefile,or \n",
    "        declared global in a def within the file.\n",
    "        \n",
    "    * B:Built-in(Python) - Names preassigned in the built-in names module:\n",
    "        open,range,syntaxError,..."
   ]
  },
  {
   "cell_type": "code",
   "execution_count": 5,
   "id": "9dde79d1",
   "metadata": {},
   "outputs": [],
   "source": [
    "# Local\n",
    "# lambda num:num**2"
   ]
  },
  {
   "cell_type": "code",
   "execution_count": 12,
   "id": "0b7d8812",
   "metadata": {},
   "outputs": [],
   "source": [
    "#global\n",
    "name = 'this is global string'\n",
    "def greet():\n",
    "    #Enclosing\n",
    "    name  = 'sammy'\n",
    "    def hello():\n",
    "        #local\n",
    "        # name = 'i am local'\n",
    "        print('hello ' + name)\n",
    "        \n",
    "    hello()"
   ]
  },
  {
   "cell_type": "code",
   "execution_count": 13,
   "id": "7dd20e3c",
   "metadata": {},
   "outputs": [
    {
     "name": "stdout",
     "output_type": "stream",
     "text": [
      "hello sammy\n"
     ]
    }
   ],
   "source": [
    "greet()"
   ]
  },
  {
   "cell_type": "markdown",
   "id": "bd1e9a94",
   "metadata": {},
   "source": [
    "In above example, when we execute greet first thing that will be done is name will be assigned as sammy now hello() function will be called which will print hello + name which hello + sammy. If we comment out name = 'sammy' then output will be hello this is global string. "
   ]
  },
  {
   "cell_type": "code",
   "execution_count": 19,
   "id": "4fd3f96a",
   "metadata": {},
   "outputs": [],
   "source": [
    "x = 50\n",
    "\n",
    "def func(x):\n",
    "    print(f'X is {x}')\n",
    "    \n",
    "    #local reassignment:\n",
    "    x = 200\n",
    "    print(f'I just LOcally changed x to {x}')"
   ]
  },
  {
   "cell_type": "code",
   "execution_count": 20,
   "id": "f6d60762",
   "metadata": {},
   "outputs": [
    {
     "name": "stdout",
     "output_type": "stream",
     "text": [
      "X is 50\n",
      "I just LOcally changed x to 200\n"
     ]
    }
   ],
   "source": [
    "func(x)"
   ]
  },
  {
   "cell_type": "code",
   "execution_count": 21,
   "id": "baa71323",
   "metadata": {},
   "outputs": [
    {
     "name": "stdout",
     "output_type": "stream",
     "text": [
      "50\n"
     ]
    }
   ],
   "source": [
    "print(x)"
   ]
  },
  {
   "cell_type": "code",
   "execution_count": 22,
   "id": "47e51462",
   "metadata": {},
   "outputs": [],
   "source": [
    "# if we want to reassign the global x then.\n",
    "x = 50\n",
    "\n",
    "def func():\n",
    "    global x \n",
    "    print(f'X is {x}')\n",
    "    \n",
    "    #local reassignment on a global variable:\n",
    "    x = 'new'\n",
    "    print(f'I just LOcally changed global x to {x}')"
   ]
  },
  {
   "cell_type": "code",
   "execution_count": 24,
   "id": "c5f49d7e",
   "metadata": {},
   "outputs": [
    {
     "name": "stdout",
     "output_type": "stream",
     "text": [
      "X is 50\n",
      "I just LOcally changed global x to new\n"
     ]
    }
   ],
   "source": [
    "func()"
   ]
  },
  {
   "cell_type": "code",
   "execution_count": 26,
   "id": "c39214cd",
   "metadata": {},
   "outputs": [
    {
     "name": "stdout",
     "output_type": "stream",
     "text": [
      "new\n"
     ]
    }
   ],
   "source": [
    "print(x)"
   ]
  },
  {
   "cell_type": "markdown",
   "id": "f2207c0b",
   "metadata": {},
   "source": [
    "Instead of using above thing we can also do the following."
   ]
  },
  {
   "cell_type": "code",
   "execution_count": 35,
   "id": "01885a72",
   "metadata": {},
   "outputs": [],
   "source": [
    "x = 50\n",
    "\n",
    "def func(x):\n",
    "    print(f'X is {x}')\n",
    "    \n",
    "    #local reassignment on a global variable:\n",
    "    x = 'new'\n",
    "    print(f'I just LOcally changed global x to {x}')\n",
    "    return x"
   ]
  },
  {
   "cell_type": "code",
   "execution_count": 36,
   "id": "c1d00892",
   "metadata": {},
   "outputs": [
    {
     "name": "stdout",
     "output_type": "stream",
     "text": [
      "50\n"
     ]
    }
   ],
   "source": [
    "print(x)"
   ]
  },
  {
   "cell_type": "code",
   "execution_count": 39,
   "id": "ee05133c",
   "metadata": {},
   "outputs": [
    {
     "name": "stdout",
     "output_type": "stream",
     "text": [
      "X is 50\n",
      "I just LOcally changed global x to new\n"
     ]
    }
   ],
   "source": [
    "x = func(x)"
   ]
  },
  {
   "cell_type": "code",
   "execution_count": 40,
   "id": "3b78dc47",
   "metadata": {},
   "outputs": [
    {
     "data": {
      "text/plain": [
       "'new'"
      ]
     },
     "execution_count": 40,
     "metadata": {},
     "output_type": "execute_result"
    }
   ],
   "source": [
    "x"
   ]
  },
  {
   "cell_type": "code",
   "execution_count": null,
   "id": "434e3f47",
   "metadata": {},
   "outputs": [],
   "source": []
  }
 ],
 "metadata": {
  "kernelspec": {
   "display_name": "Python 3 (ipykernel)",
   "language": "python",
   "name": "python3"
  },
  "language_info": {
   "codemirror_mode": {
    "name": "ipython",
    "version": 3
   },
   "file_extension": ".py",
   "mimetype": "text/x-python",
   "name": "python",
   "nbconvert_exporter": "python",
   "pygments_lexer": "ipython3",
   "version": "3.9.13"
  }
 },
 "nbformat": 4,
 "nbformat_minor": 5
}
