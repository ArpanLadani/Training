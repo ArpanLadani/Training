{
 "cells": [
  {
   "cell_type": "markdown",
   "id": "e2b6fdcd",
   "metadata": {},
   "source": [
    "### Collections Module\n",
    "The collection module is a built in module that implements specialized container datatypes providing alternatives to python's general purpose built-in containers. We've already gone through the basics: dict,list,set adn tuple."
   ]
  },
  {
   "cell_type": "code",
   "execution_count": 1,
   "id": "23d4da52",
   "metadata": {},
   "outputs": [],
   "source": [
    "from collections import Counter"
   ]
  },
  {
   "cell_type": "code",
   "execution_count": 6,
   "id": "18925c2f",
   "metadata": {},
   "outputs": [
    {
     "data": {
      "text/plain": [
       "Counter({1: 7, 2: 7, 231: 1, 31: 1, 3: 3, 12: 4, 21: 3, 123: 1, 321: 1})"
      ]
     },
     "execution_count": 6,
     "metadata": {},
     "output_type": "execute_result"
    }
   ],
   "source": [
    "l = [1,1,1,1,2,231,31,3,12,2,12,2,12,1,1,1,21,21,3,21,3,123,12,321,2,2,2,2]\n",
    "\n",
    "Counter(l)"
   ]
  },
  {
   "cell_type": "code",
   "execution_count": 10,
   "id": "f291ebe4",
   "metadata": {},
   "outputs": [
    {
     "data": {
      "text/plain": [
       "Counter({'q': 4,\n",
       "         's': 10,\n",
       "         'd': 9,\n",
       "         'o': 2,\n",
       "         'k': 3,\n",
       "         'i': 2,\n",
       "         'j': 5,\n",
       "         'a': 5,\n",
       "         'x': 2,\n",
       "         'm': 4,\n",
       "         'w': 2,\n",
       "         'h': 2,\n",
       "         'u': 1,\n",
       "         'c': 4,\n",
       "         'n': 2,\n",
       "         'l': 2})"
      ]
     },
     "execution_count": 10,
     "metadata": {},
     "output_type": "execute_result"
    }
   ],
   "source": [
    "s = 'qsdqokdioqsdjisasxmsakddwdhuahcdwsjcmsamnxnlsalkjdjqscmscjd'\n",
    "Counter(s)"
   ]
  },
  {
   "cell_type": "code",
   "execution_count": 34,
   "id": "a9e6de12",
   "metadata": {},
   "outputs": [],
   "source": [
    "s = 'How many times does each word show up in this sentence word word shoe  upup'\n"
   ]
  },
  {
   "cell_type": "code",
   "execution_count": 35,
   "id": "83ec2934",
   "metadata": {},
   "outputs": [],
   "source": [
    "word = s.split()"
   ]
  },
  {
   "cell_type": "code",
   "execution_count": 36,
   "id": "0e325c34",
   "metadata": {},
   "outputs": [
    {
     "data": {
      "text/plain": [
       "Counter({'How': 1,\n",
       "         'many': 1,\n",
       "         'times': 1,\n",
       "         'does': 1,\n",
       "         'each': 1,\n",
       "         'word': 3,\n",
       "         'show': 1,\n",
       "         'up': 1,\n",
       "         'in': 1,\n",
       "         'this': 1,\n",
       "         'sentence': 1,\n",
       "         'shoe': 1,\n",
       "         'upup': 1})"
      ]
     },
     "execution_count": 36,
     "metadata": {},
     "output_type": "execute_result"
    }
   ],
   "source": [
    "Counter(word)"
   ]
  },
  {
   "cell_type": "code",
   "execution_count": 37,
   "id": "26a9a60c",
   "metadata": {},
   "outputs": [],
   "source": [
    "c = Counter(word)"
   ]
  },
  {
   "cell_type": "code",
   "execution_count": 38,
   "id": "8ca6fcec",
   "metadata": {},
   "outputs": [
    {
     "data": {
      "text/plain": [
       "[('word', 3), ('How', 1), ('many', 1), ('times', 1)]"
      ]
     },
     "execution_count": 38,
     "metadata": {},
     "output_type": "execute_result"
    }
   ],
   "source": [
    "c.most_common(4)"
   ]
  },
  {
   "cell_type": "code",
   "execution_count": 39,
   "id": "d08d9ee2",
   "metadata": {},
   "outputs": [
    {
     "data": {
      "text/plain": [
       "15"
      ]
     },
     "execution_count": 39,
     "metadata": {},
     "output_type": "execute_result"
    }
   ],
   "source": [
    "sum(c.values()) # total of all counts."
   ]
  },
  {
   "cell_type": "code",
   "execution_count": 40,
   "id": "d58ffb37",
   "metadata": {},
   "outputs": [],
   "source": [
    "c.clear() # reset all counts."
   ]
  },
  {
   "cell_type": "code",
   "execution_count": 41,
   "id": "42ae658d",
   "metadata": {},
   "outputs": [
    {
     "data": {
      "text/plain": [
       "[]"
      ]
     },
     "execution_count": 41,
     "metadata": {},
     "output_type": "execute_result"
    }
   ],
   "source": [
    "list(c) # list unique elements."
   ]
  },
  {
   "cell_type": "code",
   "execution_count": 42,
   "id": "93e8e132",
   "metadata": {},
   "outputs": [
    {
     "data": {
      "text/plain": [
       "set()"
      ]
     },
     "execution_count": 42,
     "metadata": {},
     "output_type": "execute_result"
    }
   ],
   "source": [
    "set(c) # convert to a set."
   ]
  },
  {
   "cell_type": "code",
   "execution_count": 43,
   "id": "c60154aa",
   "metadata": {},
   "outputs": [
    {
     "data": {
      "text/plain": [
       "{}"
      ]
     },
     "execution_count": 43,
     "metadata": {},
     "output_type": "execute_result"
    }
   ],
   "source": [
    "dict(c) # convert to regular dictionary."
   ]
  },
  {
   "cell_type": "code",
   "execution_count": 44,
   "id": "947900e7",
   "metadata": {},
   "outputs": [
    {
     "data": {
      "text/plain": [
       "dict_items([])"
      ]
     },
     "execution_count": 44,
     "metadata": {},
     "output_type": "execute_result"
    }
   ],
   "source": [
    "c.items() # convert to a list of (elem,cnt) pairs."
   ]
  },
  {
   "cell_type": "code",
   "execution_count": 46,
   "id": "518e1af5",
   "metadata": {},
   "outputs": [],
   "source": [
    "Counter(dict(list_of_pairs)) # convert to a list of(elem,cnt) pairs.\n"
   ]
  },
  {
   "cell_type": "code",
   "execution_count": 48,
   "id": "8d7d28cf",
   "metadata": {},
   "outputs": [],
   "source": [
    "c.most_common()[:-n-1:-1] # n least common elements."
   ]
  },
  {
   "cell_type": "code",
   "execution_count": 49,
   "id": "3a071ae1",
   "metadata": {},
   "outputs": [],
   "source": [
    "c += Counter() # remove zero and negative counts."
   ]
  },
  {
   "cell_type": "code",
   "execution_count": null,
   "id": "f746f4fb",
   "metadata": {},
   "outputs": [],
   "source": []
  }
 ],
 "metadata": {
  "kernelspec": {
   "display_name": "Python 3 (ipykernel)",
   "language": "python",
   "name": "python3"
  },
  "language_info": {
   "codemirror_mode": {
    "name": "ipython",
    "version": 3
   },
   "file_extension": ".py",
   "mimetype": "text/x-python",
   "name": "python",
   "nbconvert_exporter": "python",
   "pygments_lexer": "ipython3",
   "version": "3.9.13"
  }
 },
 "nbformat": 4,
 "nbformat_minor": 5
}
