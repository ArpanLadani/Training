{
 "cells": [
  {
   "cell_type": "markdown",
   "id": "dd2a9bd0",
   "metadata": {},
   "source": [
    "### Ordered Dict\n",
    "An OrderedDict is a dictionary subclass that remembers the order in which its contents are added."
   ]
  },
  {
   "cell_type": "code",
   "execution_count": 3,
   "id": "d7f01b65",
   "metadata": {},
   "outputs": [
    {
     "name": "stdout",
     "output_type": "stream",
     "text": [
      "Normal Dictionary:\n",
      "a A\n",
      "b B\n",
      "c C\n",
      "d D\n",
      "e E\n"
     ]
    }
   ],
   "source": [
    "print ('Normal Dictionary:')\n",
    "d={}\n",
    "d['a'] = 'A'\n",
    "d['b'] = 'B'\n",
    "d['c'] = 'C'\n",
    "d['d'] = 'D'\n",
    "d['e'] = 'E'\n",
    "\n",
    "for k,v in d.items():\n",
    "    print (k,v)"
   ]
  },
  {
   "cell_type": "code",
   "execution_count": 1,
   "id": "a9f479a9",
   "metadata": {},
   "outputs": [],
   "source": [
    "from collections import OrderedDict"
   ]
  },
  {
   "cell_type": "code",
   "execution_count": 2,
   "id": "1b1e8e03",
   "metadata": {},
   "outputs": [],
   "source": [
    "d = OrderedDict()"
   ]
  },
  {
   "cell_type": "code",
   "execution_count": 3,
   "id": "d799dd82",
   "metadata": {},
   "outputs": [],
   "source": [
    "d['a'] = 'A'\n",
    "d['b'] = 'B'\n",
    "d['c'] = 'C'\n",
    "d['d'] = 'D'\n",
    "d['e'] = 'E'"
   ]
  },
  {
   "cell_type": "code",
   "execution_count": 4,
   "id": "ac1ca2a0",
   "metadata": {},
   "outputs": [
    {
     "name": "stdout",
     "output_type": "stream",
     "text": [
      "a A\n",
      "b B\n",
      "c C\n",
      "d D\n",
      "e E\n"
     ]
    }
   ],
   "source": [
    "for k,v in d.items():\n",
    "    print (k,v)"
   ]
  },
  {
   "cell_type": "code",
   "execution_count": 7,
   "id": "6c62148f",
   "metadata": {},
   "outputs": [],
   "source": [
    "d1 = {}\n",
    "d1['a'] = 1\n",
    "d1['b'] = 2\n",
    "\n",
    "d2 = {}\n",
    "d2['b'] = 2\n",
    "d2['a'] = 1"
   ]
  },
  {
   "cell_type": "code",
   "execution_count": 9,
   "id": "d16b9578",
   "metadata": {},
   "outputs": [
    {
     "name": "stdout",
     "output_type": "stream",
     "text": [
      "True\n"
     ]
    }
   ],
   "source": [
    "print (d1 == d2)"
   ]
  },
  {
   "cell_type": "code",
   "execution_count": 11,
   "id": "978a3730",
   "metadata": {},
   "outputs": [],
   "source": [
    "d1 = OrderedDict()\n",
    "d1['a'] = 1\n",
    "d1['b'] = 2\n",
    "\n",
    "d2 = OrderedDict()\n",
    "d2['b'] = 2\n",
    "d2['a'] = 1"
   ]
  },
  {
   "cell_type": "code",
   "execution_count": 12,
   "id": "98af3c1c",
   "metadata": {},
   "outputs": [
    {
     "name": "stdout",
     "output_type": "stream",
     "text": [
      "False\n"
     ]
    }
   ],
   "source": [
    "print (d1 == d2)"
   ]
  },
  {
   "cell_type": "code",
   "execution_count": null,
   "id": "4c2b6c10",
   "metadata": {},
   "outputs": [],
   "source": []
  }
 ],
 "metadata": {
  "kernelspec": {
   "display_name": "Python 3 (ipykernel)",
   "language": "python",
   "name": "python3"
  },
  "language_info": {
   "codemirror_mode": {
    "name": "ipython",
    "version": 3
   },
   "file_extension": ".py",
   "mimetype": "text/x-python",
   "name": "python",
   "nbconvert_exporter": "python",
   "pygments_lexer": "ipython3",
   "version": "3.9.13"
  }
 },
 "nbformat": 4,
 "nbformat_minor": 5
}
