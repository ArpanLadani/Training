{
 "cells": [
  {
   "cell_type": "code",
   "execution_count": 1,
   "id": "932b8988",
   "metadata": {},
   "outputs": [
    {
     "data": {
      "text/plain": [
       "1"
      ]
     },
     "execution_count": 1,
     "metadata": {},
     "output_type": "execute_result"
    }
   ],
   "source": [
    "t = (1,2,3) #standard tuple\n",
    "t[0]"
   ]
  },
  {
   "cell_type": "code",
   "execution_count": 2,
   "id": "2e6d5182",
   "metadata": {},
   "outputs": [],
   "source": [
    "from collections import namedtuple"
   ]
  },
  {
   "cell_type": "code",
   "execution_count": 4,
   "id": "6b67987d",
   "metadata": {},
   "outputs": [],
   "source": [
    "Dog = namedtuple('Dog','age breed name') #1 st parameter is class name and 2 nd parameter is methods in it with spaces."
   ]
  },
  {
   "cell_type": "code",
   "execution_count": 5,
   "id": "eaebe95a",
   "metadata": {},
   "outputs": [],
   "source": [
    "sam = Dog(age=2,breed='Lab',name = 'Sammy')"
   ]
  },
  {
   "cell_type": "code",
   "execution_count": 6,
   "id": "af65c50f",
   "metadata": {},
   "outputs": [
    {
     "data": {
      "text/plain": [
       "2"
      ]
     },
     "execution_count": 6,
     "metadata": {},
     "output_type": "execute_result"
    }
   ],
   "source": [
    "sam.age"
   ]
  },
  {
   "cell_type": "code",
   "execution_count": 8,
   "id": "88ef7450",
   "metadata": {},
   "outputs": [
    {
     "data": {
      "text/plain": [
       "2"
      ]
     },
     "execution_count": 8,
     "metadata": {},
     "output_type": "execute_result"
    }
   ],
   "source": [
    "sam[0]"
   ]
  },
  {
   "cell_type": "code",
   "execution_count": 9,
   "id": "0822c13e",
   "metadata": {},
   "outputs": [],
   "source": [
    "Cat = namedtuple('Cat','fur claws name')"
   ]
  },
  {
   "cell_type": "code",
   "execution_count": 10,
   "id": "fc1420f1",
   "metadata": {},
   "outputs": [],
   "source": [
    "c = Cat(fur='fuzzy',claws= False,name ='Kitty')"
   ]
  },
  {
   "cell_type": "code",
   "execution_count": 11,
   "id": "d63bde42",
   "metadata": {},
   "outputs": [
    {
     "data": {
      "text/plain": [
       "'Kitty'"
      ]
     },
     "execution_count": 11,
     "metadata": {},
     "output_type": "execute_result"
    }
   ],
   "source": [
    "c.name\n"
   ]
  },
  {
   "cell_type": "code",
   "execution_count": 13,
   "id": "20bd73d1",
   "metadata": {},
   "outputs": [
    {
     "data": {
      "text/plain": [
       "False"
      ]
     },
     "execution_count": 13,
     "metadata": {},
     "output_type": "execute_result"
    }
   ],
   "source": [
    "c[1]"
   ]
  },
  {
   "cell_type": "code",
   "execution_count": null,
   "id": "9d68ed03",
   "metadata": {},
   "outputs": [],
   "source": []
  }
 ],
 "metadata": {
  "kernelspec": {
   "display_name": "Python 3 (ipykernel)",
   "language": "python",
   "name": "python3"
  },
  "language_info": {
   "codemirror_mode": {
    "name": "ipython",
    "version": 3
   },
   "file_extension": ".py",
   "mimetype": "text/x-python",
   "name": "python",
   "nbconvert_exporter": "python",
   "pygments_lexer": "ipython3",
   "version": "3.9.13"
  }
 },
 "nbformat": 4,
 "nbformat_minor": 5
}
