{
 "cells": [
  {
   "cell_type": "markdown",
   "id": "9240b89b",
   "metadata": {},
   "source": [
    "### Timing the code\n",
    "Sometimes its important to know how long your code is taking to run, or at least know if a particular line of code is slowing down your entire project. Python has a built in timing module to do this .\n",
    "\n",
    "This module provides a simple way to time small bits of Python code. It has both a Command-Line interface as well as a callable one. It avoids a number of common traps for measuring execution times."
   ]
  },
  {
   "cell_type": "code",
   "execution_count": 3,
   "id": "fd8069d7",
   "metadata": {},
   "outputs": [],
   "source": [
    "import timeit"
   ]
  },
  {
   "cell_type": "markdown",
   "id": "b24479d3",
   "metadata": {},
   "source": [
    "We will pass 2 arguments the actual line we want to test encapsulated as a string and the number of times we wish to run it. Here we will choose 10000 runs to get some high enough number to compare various methods."
   ]
  },
  {
   "cell_type": "code",
   "execution_count": 4,
   "id": "649a5b55",
   "metadata": {},
   "outputs": [
    {
     "data": {
      "text/plain": [
       "0.6071681000000009"
      ]
     },
     "execution_count": 4,
     "metadata": {},
     "output_type": "execute_result"
    }
   ],
   "source": [
    "#For loop \n",
    "timeit.timeit('\"-\".join(str(n) for n in range (100))', number = 10000)"
   ]
  },
  {
   "cell_type": "code",
   "execution_count": 5,
   "id": "8a60da45",
   "metadata": {},
   "outputs": [
    {
     "data": {
      "text/plain": [
       "0.5305263999999994"
      ]
     },
     "execution_count": 5,
     "metadata": {},
     "output_type": "execute_result"
    }
   ],
   "source": [
    "#list comprehension \n",
    "timeit.timeit('\"-\".join([str(n) for n in range (100)])', number = 10000)"
   ]
  },
  {
   "cell_type": "code",
   "execution_count": 6,
   "id": "e46ff3f4",
   "metadata": {},
   "outputs": [
    {
     "data": {
      "text/plain": [
       "0.4263769999999987"
      ]
     },
     "execution_count": 6,
     "metadata": {},
     "output_type": "execute_result"
    }
   ],
   "source": [
    "#Map \n",
    "timeit.timeit('\"-\".join(map(str, range(100)))',number = 10000)"
   ]
  },
  {
   "cell_type": "code",
   "execution_count": 7,
   "id": "fb389dcc",
   "metadata": {},
   "outputs": [
    {
     "data": {
      "text/plain": [
       "'0-1-2-3-.....-99'"
      ]
     },
     "execution_count": 7,
     "metadata": {},
     "output_type": "execute_result"
    }
   ],
   "source": [
    "'0-1-2-3-.....-99'"
   ]
  },
  {
   "cell_type": "code",
   "execution_count": 9,
   "id": "5aaff57c",
   "metadata": {},
   "outputs": [
    {
     "data": {
      "text/plain": [
       "0.5934193000000079"
      ]
     },
     "execution_count": 9,
     "metadata": {},
     "output_type": "execute_result"
    }
   ],
   "source": [
    "timeit.timeit('\"-\".join(str(n) for n in range(100)) ',number = 10000)"
   ]
  },
  {
   "cell_type": "code",
   "execution_count": 12,
   "id": "e22eaa04",
   "metadata": {},
   "outputs": [
    {
     "data": {
      "text/plain": [
       "0.578616199999999"
      ]
     },
     "execution_count": 12,
     "metadata": {},
     "output_type": "execute_result"
    }
   ],
   "source": [
    "timeit.timeit('\"-\".join([str(n) for n in range(100)]) ',number = 10000)"
   ]
  },
  {
   "cell_type": "code",
   "execution_count": 13,
   "id": "7a4bba59",
   "metadata": {},
   "outputs": [
    {
     "data": {
      "text/plain": [
       "0.4687990000000184"
      ]
     },
     "execution_count": 13,
     "metadata": {},
     "output_type": "execute_result"
    }
   ],
   "source": [
    "timeit.timeit('\"-\".join(map(str,range(100)))' ,number=10000)"
   ]
  },
  {
   "cell_type": "code",
   "execution_count": null,
   "id": "0bb9e41f",
   "metadata": {},
   "outputs": [],
   "source": []
  },
  {
   "cell_type": "code",
   "execution_count": null,
   "id": "0d64160c",
   "metadata": {},
   "outputs": [],
   "source": []
  },
  {
   "cell_type": "code",
   "execution_count": 14,
   "id": "0868a82b",
   "metadata": {},
   "outputs": [
    {
     "name": "stdout",
     "output_type": "stream",
     "text": [
      "60.5 µs ± 17.1 µs per loop (mean ± std. dev. of 7 runs, 10000 loops each)\n"
     ]
    }
   ],
   "source": [
    "%timeit \"-\".join(str(n) for n in range(100))"
   ]
  },
  {
   "cell_type": "code",
   "execution_count": 15,
   "id": "8b9b767a",
   "metadata": {},
   "outputs": [
    {
     "name": "stdout",
     "output_type": "stream",
     "text": [
      "74.6 µs ± 10 µs per loop (mean ± std. dev. of 7 runs, 10000 loops each)\n"
     ]
    }
   ],
   "source": [
    "%timeit \"-\".join([str(n) for n in range(100)])"
   ]
  },
  {
   "cell_type": "code",
   "execution_count": 16,
   "id": "d4b34e60",
   "metadata": {},
   "outputs": [
    {
     "name": "stdout",
     "output_type": "stream",
     "text": [
      "61.7 µs ± 7.55 µs per loop (mean ± std. dev. of 7 runs, 10000 loops each)\n"
     ]
    }
   ],
   "source": [
    "%timeit \"-\".join(map(str,range(100)))"
   ]
  },
  {
   "cell_type": "code",
   "execution_count": null,
   "id": "3a4f1963",
   "metadata": {},
   "outputs": [],
   "source": []
  }
 ],
 "metadata": {
  "kernelspec": {
   "display_name": "Python 3 (ipykernel)",
   "language": "python",
   "name": "python3"
  },
  "language_info": {
   "codemirror_mode": {
    "name": "ipython",
    "version": 3
   },
   "file_extension": ".py",
   "mimetype": "text/x-python",
   "name": "python",
   "nbconvert_exporter": "python",
   "pygments_lexer": "ipython3",
   "version": "3.9.13"
  }
 },
 "nbformat": 4,
 "nbformat_minor": 5
}
