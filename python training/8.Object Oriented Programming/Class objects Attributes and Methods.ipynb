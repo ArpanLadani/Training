{
 "cells": [
  {
   "cell_type": "markdown",
   "id": "e6ca5503",
   "metadata": {},
   "source": [
    "#### Method: Method is a function inside a class that will actually work as object some way."
   ]
  },
  {
   "cell_type": "code",
   "execution_count": 25,
   "id": "a9e3f810",
   "metadata": {},
   "outputs": [],
   "source": [
    "class Dog():\n",
    "    #class object attribute\n",
    "    #same for any instance of a class\n",
    "    species = 'mammal'\n",
    "\n",
    "    def __init__(self,breed,name):\n",
    "        self.breed = breed\n",
    "        self.name = name\n",
    "        \n",
    "    # operations/Actions ---> Methods\n",
    "    def bark(self,number):\n",
    "        print(\"WOOF! My name is {} and number is {}\".format(self.name,number))\n",
    "        # in above we just can not say name we have say self.name as we have passed the argument before which is related to self.\n",
    "        # we are not using self.number because that is not connected to instance of a clss(self).\n",
    "        "
   ]
  },
  {
   "cell_type": "code",
   "execution_count": 26,
   "id": "6c3ab572",
   "metadata": {},
   "outputs": [],
   "source": [
    "my_dog = Dog('Lab','Frankie')"
   ]
  },
  {
   "cell_type": "code",
   "execution_count": 27,
   "id": "36fb4d8d",
   "metadata": {},
   "outputs": [
    {
     "data": {
      "text/plain": [
       "'mammal'"
      ]
     },
     "execution_count": 27,
     "metadata": {},
     "output_type": "execute_result"
    }
   ],
   "source": [
    "my_dog.species"
   ]
  },
  {
   "cell_type": "code",
   "execution_count": 28,
   "id": "c28b7654",
   "metadata": {},
   "outputs": [
    {
     "data": {
      "text/plain": [
       "'Frankie'"
      ]
     },
     "execution_count": 28,
     "metadata": {},
     "output_type": "execute_result"
    }
   ],
   "source": [
    "my_dog.name"
   ]
  },
  {
   "cell_type": "code",
   "execution_count": 30,
   "id": "d5dd509c",
   "metadata": {},
   "outputs": [
    {
     "name": "stdout",
     "output_type": "stream",
     "text": [
      "WOOF! My name is Frankie and number is 63\n"
     ]
    }
   ],
   "source": [
    "my_dog.bark(63)"
   ]
  },
  {
   "cell_type": "code",
   "execution_count": null,
   "id": "d4ac8a05",
   "metadata": {},
   "outputs": [],
   "source": []
  },
  {
   "cell_type": "code",
   "execution_count": 47,
   "id": "d6beabbb",
   "metadata": {},
   "outputs": [],
   "source": [
    "class Circle():\n",
    "    #class object attribute\n",
    "    pi = 3.14\n",
    "    def __init__(self,radius=1):\n",
    "        self.radius = radius\n",
    "        self.area = radius*radius*self.pi \n",
    "        #in above instead of self.pi we can also use Circle.pi as pi is an class object attribute.\n",
    "        self.area2 = radius*radius*Circle.pi \n",
    "    \n",
    "    # Method\n",
    "    def get_circumference(self):\n",
    "        return self.radius * self.pi * 2"
   ]
  },
  {
   "cell_type": "code",
   "execution_count": 32,
   "id": "cdbb6a43",
   "metadata": {},
   "outputs": [],
   "source": [
    "my_circle = Circle()"
   ]
  },
  {
   "cell_type": "code",
   "execution_count": 48,
   "id": "1ca350b6",
   "metadata": {},
   "outputs": [],
   "source": [
    "my_circle = Circle(30)#giving parameter."
   ]
  },
  {
   "cell_type": "code",
   "execution_count": 49,
   "id": "011649ed",
   "metadata": {},
   "outputs": [
    {
     "data": {
      "text/plain": [
       "3.14"
      ]
     },
     "execution_count": 49,
     "metadata": {},
     "output_type": "execute_result"
    }
   ],
   "source": [
    "my_circle.pi"
   ]
  },
  {
   "cell_type": "code",
   "execution_count": 35,
   "id": "c3ac9e0c",
   "metadata": {},
   "outputs": [
    {
     "data": {
      "text/plain": [
       "1"
      ]
     },
     "execution_count": 35,
     "metadata": {},
     "output_type": "execute_result"
    }
   ],
   "source": [
    "my_circle.radius #radius with default parameter."
   ]
  },
  {
   "cell_type": "code",
   "execution_count": 50,
   "id": "4f9bbb73",
   "metadata": {},
   "outputs": [
    {
     "data": {
      "text/plain": [
       "30"
      ]
     },
     "execution_count": 50,
     "metadata": {},
     "output_type": "execute_result"
    }
   ],
   "source": [
    "my_circle.radius #radius after giving paramter."
   ]
  },
  {
   "cell_type": "code",
   "execution_count": 51,
   "id": "693f01ad",
   "metadata": {},
   "outputs": [
    {
     "data": {
      "text/plain": [
       "188.4"
      ]
     },
     "execution_count": 51,
     "metadata": {},
     "output_type": "execute_result"
    }
   ],
   "source": [
    "my_circle.get_circumference()"
   ]
  },
  {
   "cell_type": "code",
   "execution_count": 52,
   "id": "9f8e1fd4",
   "metadata": {},
   "outputs": [
    {
     "data": {
      "text/plain": [
       "2826.0"
      ]
     },
     "execution_count": 52,
     "metadata": {},
     "output_type": "execute_result"
    }
   ],
   "source": [
    "my_circle.area"
   ]
  },
  {
   "cell_type": "code",
   "execution_count": 53,
   "id": "a47b039b",
   "metadata": {},
   "outputs": [
    {
     "data": {
      "text/plain": [
       "2826.0"
      ]
     },
     "execution_count": 53,
     "metadata": {},
     "output_type": "execute_result"
    }
   ],
   "source": [
    "my_circle.area2"
   ]
  },
  {
   "cell_type": "code",
   "execution_count": null,
   "id": "62e44f5e",
   "metadata": {},
   "outputs": [],
   "source": []
  }
 ],
 "metadata": {
  "kernelspec": {
   "display_name": "Python 3 (ipykernel)",
   "language": "python",
   "name": "python3"
  },
  "language_info": {
   "codemirror_mode": {
    "name": "ipython",
    "version": 3
   },
   "file_extension": ".py",
   "mimetype": "text/x-python",
   "name": "python",
   "nbconvert_exporter": "python",
   "pygments_lexer": "ipython3",
   "version": "3.9.13"
  }
 },
 "nbformat": 4,
 "nbformat_minor": 5
}
